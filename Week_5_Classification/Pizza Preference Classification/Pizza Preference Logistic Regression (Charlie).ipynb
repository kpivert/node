{
 "cells": [
  {
   "cell_type": "code",
   "execution_count": 44,
   "metadata": {
    "collapsed": true
   },
   "outputs": [],
   "source": [
    "import pandas as pd\n",
    "import numpy as np\n",
    "from sklearn.linear_model import LogisticRegression"
   ]
  },
  {
   "cell_type": "code",
   "execution_count": 49,
   "metadata": {
    "collapsed": false
   },
   "outputs": [],
   "source": [
    "df = pd.read_csv(\"pizza_data.csv\")"
   ]
  },
  {
   "cell_type": "code",
   "execution_count": 21,
   "metadata": {
    "collapsed": false
   },
   "outputs": [],
   "source": [
    "training = df.iloc[0:20]\n",
    "testing = df.iloc[20:25]\n",
    "\n",
    "charlie_training = training.drop(['Pizza_ID', 'Category', 'Nikhil_eats'], 1)\n",
    "nikhil_training = training.drop(['Pizza_ID', 'Category', 'Charlie_eats'], 1)\n",
    "\n",
    "charlie_training_x = charlie_training.drop('Charlie_eats', 1)\n",
    "charlie_training_y = charlie_training['Charlie_eats']\n",
    "\n",
    "nikhil_training_x = nikhil_training.drop('Nikhil_eats', 1)\n",
    "nikhil_training_y = nikhil_training['Nikhil_eats']\n",
    "\n",
    "\n",
    "charlie_testing = testing.drop(['Pizza_ID', 'Category', 'Nikhil_eats'], 1)\n",
    "nikhil_testing = testing.drop(['Pizza_ID', 'Category', 'Charlie_eats'], 1)\n",
    "\n",
    "charlie_testing_x = charlie_testing.drop('Charlie_eats', 1)\n",
    "charlie_testing_y = charlie_testing['Charlie_eats']\n",
    "\n",
    "nikhil_testing_x = nikhil_testing.drop('Nikhil_eats', 1)\n",
    "nikhil_testing_y = nikhil_testing['Nikhil_eats']"
   ]
  },
  {
   "cell_type": "markdown",
   "metadata": {},
   "source": [
    "# Charlie Predictions"
   ]
  },
  {
   "cell_type": "code",
   "execution_count": 46,
   "metadata": {
    "collapsed": false
   },
   "outputs": [
    {
     "name": "stdout",
     "output_type": "stream",
     "text": [
      "Predictions: [0, 0, 0, 0, 1]\n",
      "Actual:      [1, 0, 0, 0, 1]\n"
     ]
    }
   ],
   "source": [
    "clf = LogisticRegression()\n",
    "clf.fit(charlie_training_x, charlie_training_y)\n",
    "print('Predictions:', list(clf.predict(charlie_testing_x)))\n",
    "print('Actual:     ', list(charlie_testing_y))"
   ]
  },
  {
   "cell_type": "markdown",
   "metadata": {},
   "source": [
    "# Nikhil Predictions"
   ]
  },
  {
   "cell_type": "code",
   "execution_count": 47,
   "metadata": {
    "collapsed": false
   },
   "outputs": [
    {
     "name": "stdout",
     "output_type": "stream",
     "text": [
      "Predictions: [0, 0, 1, 0, 1]\n",
      "Actual:      [0, 0, 1, 0, 1]\n"
     ]
    }
   ],
   "source": [
    "clf.fit(nikhil_training_x, nikhil_training_y)\n",
    "print('Predictions:', list(clf.predict(nikhil_testing_x)))\n",
    "print('Actual:     ', list(nikhil_testing_y))"
   ]
  },
  {
   "cell_type": "code",
   "execution_count": null,
   "metadata": {
    "collapsed": true
   },
   "outputs": [],
   "source": []
  }
 ],
 "metadata": {
  "kernelspec": {
   "display_name": "Python 3",
   "language": "python",
   "name": "python3"
  },
  "language_info": {
   "codemirror_mode": {
    "name": "ipython",
    "version": 3
   },
   "file_extension": ".py",
   "mimetype": "text/x-python",
   "name": "python",
   "nbconvert_exporter": "python",
   "pygments_lexer": "ipython3",
   "version": "3.6.0"
  }
 },
 "nbformat": 4,
 "nbformat_minor": 2
}
