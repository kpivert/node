{
 "cells": [
  {
   "cell_type": "markdown",
   "metadata": {},
   "source": [
    "# Web scraping with Python, Pandas, and Beautiful Soup\n",
    "\n",
    "Determining the 7-day forecast for Charlottesville based on the National Weather Services Website.\n",
    "\n",
    "adapted from https://www.dataquest.io/blog/web-scraping-tutorial-python/\n",
    "\n",
    "outline: \n",
    "1. download web page with our desired content Create a BeautifulSoup class to parse the page 2. Find the div with id seven-day-forecast, and assign to seven_day Inside seven_day and \n",
    "3. find each individual forecast item. \n",
    "4. Extract and print the first forecast item\n"
   ]
  },
  {
   "cell_type": "markdown",
   "metadata": {},
   "source": [
    "## Download the web page \n",
    "We can download pages using the Python requests library. The requests library will make a GET request to a web server, which will download the HTML contents of a given web page for us.\n",
    "\n",
    "### run these commands in terminal: \"pip3 install requests\" as well as \"pip3 install BeautifulSoup4\"\n",
    "\n",
    "before we download the page, it'd be nice to get an idea for the structure of the page. We can accomplish this using the deve tools on Chrome (or other variants if you choose) https://developer.chrome.com/devtools\n",
    "\n",
    "\n",
    "### Explore: inspect the elements of the web page, noting the general HTML structure and inspect the elements which may be of use.\n"
   ]
  },
  {
   "cell_type": "code",
   "execution_count": 2,
   "metadata": {
    "collapsed": true
   },
   "outputs": [],
   "source": [
    "import requests"
   ]
  },
  {
   "cell_type": "code",
   "execution_count": 3,
   "metadata": {
    "collapsed": true
   },
   "outputs": [],
   "source": [
    "page = requests.get(\"http://forecast.weather.gov/MapClick.php?lat=38.0335&lon=-78.5079\")"
   ]
  },
  {
   "cell_type": "code",
   "execution_count": 4,
   "metadata": {
    "collapsed": false
   },
   "outputs": [
    {
     "data": {
      "text/plain": [
       "<Response [200]>"
      ]
     },
     "execution_count": 4,
     "metadata": {},
     "output_type": "execute_result"
    }
   ],
   "source": [
    "page"
   ]
  },
  {
   "cell_type": "markdown",
   "metadata": {},
   "source": [
    "our 200 code for the resonse means that the request was successful. \n",
    "\n",
    "now on to creating a beautiful soup class"
   ]
  },
  {
   "cell_type": "code",
   "execution_count": 5,
   "metadata": {
    "collapsed": true
   },
   "outputs": [],
   "source": [
    "from bs4 import BeautifulSoup"
   ]
  },
  {
   "cell_type": "code",
   "execution_count": 6,
   "metadata": {
    "collapsed": true
   },
   "outputs": [],
   "source": [
    "soup = BeautifulSoup(page.content, 'html.parser')"
   ]
  },
  {
   "cell_type": "markdown",
   "metadata": {},
   "source": [
    "now soup contains the structure of the website, you are welcome to print it if you'd like with print(soup.prettify())"
   ]
  },
  {
   "cell_type": "code",
   "execution_count": null,
   "metadata": {
    "collapsed": true
   },
   "outputs": [],
   "source": []
  },
  {
   "cell_type": "markdown",
   "metadata": {},
   "source": [
    " we can use CSS selectors to parse out the information we need in specific div tags, labeled by their id."
   ]
  },
  {
   "cell_type": "code",
   "execution_count": 7,
   "metadata": {
    "collapsed": true
   },
   "outputs": [],
   "source": [
    "seven_day = soup.find(id=\"seven-day-forecast\")"
   ]
  },
  {
   "cell_type": "markdown",
   "metadata": {},
   "source": [
    "Here we use the \"find_all\" method to select all elements with the class_ tombstone-container. this returns a list from which we can select the first element.\n"
   ]
  },
  {
   "cell_type": "code",
   "execution_count": 9,
   "metadata": {
    "collapsed": true
   },
   "outputs": [],
   "source": [
    "forecast_items = seven_day.find_all(class_=\"tombstone-container\")\n",
    "tonight = forecast_items[0]\n"
   ]
  },
  {
   "cell_type": "code",
   "execution_count": 10,
   "metadata": {
    "collapsed": false
   },
   "outputs": [
    {
     "name": "stdout",
     "output_type": "stream",
     "text": [
      "<div class=\"tombstone-container\">\n",
      " <p class=\"period-name\">\n",
      "  This\n",
      "  <br/>\n",
      "  Afternoon\n",
      " </p>\n",
      " <p>\n",
      "  <img alt=\"This Afternoon: Showers likely and possibly a thunderstorm.  Mostly cloudy, with a high near 85. Southeast wind around 7 mph.  Chance of precipitation is 60%. New rainfall amounts of less than a tenth of an inch, except higher amounts possible in thunderstorms. \" class=\"forecast-icon\" src=\"newimages/medium/shra60.png\" title=\"This Afternoon: Showers likely and possibly a thunderstorm.  Mostly cloudy, with a high near 85. Southeast wind around 7 mph.  Chance of precipitation is 60%. New rainfall amounts of less than a tenth of an inch, except higher amounts possible in thunderstorms. \"/>\n",
      " </p>\n",
      " <p class=\"short-desc\">\n",
      "  Showers\n",
      "  <br/>\n",
      "  Likely\n",
      " </p>\n",
      " <p class=\"temp temp-high\">\n",
      "  High: 85 °F\n",
      " </p>\n",
      "</div>\n"
     ]
    }
   ],
   "source": [
    "print(tonight.prettify())\n"
   ]
  },
  {
   "cell_type": "markdown",
   "metadata": {},
   "source": [
    "\n",
    "We've narrowed the scope a bit so that we have access to tonight's weather data.\n",
    "Four Points of Interest:\n",
    "1. The name of the forecast item – in this case, Tonight. \n",
    "2. The description of the conditions – this is stored in the title property of img. \n",
    "3. A short description of the conditions – in this case, Mostly Clear. \n",
    "4. The temperature low – in this case, 49 degrees."
   ]
  },
  {
   "cell_type": "code",
   "execution_count": 12,
   "metadata": {
    "collapsed": false
   },
   "outputs": [
    {
     "name": "stdout",
     "output_type": "stream",
     "text": [
      "ThisAfternoon\n",
      "ShowersLikely\n",
      "High: 85 °F\n"
     ]
    }
   ],
   "source": [
    "\n",
    "period = tonight.find(class_=\"period-name\").get_text()\n",
    "short_desc = tonight.find(class_=\"short-desc\").get_text()\n",
    "temp = tonight.find(class_=\"temp\").get_text()\n",
    "\n",
    "print(period)\n",
    "print(short_desc)\n",
    "print(temp)"
   ]
  },
  {
   "cell_type": "markdown",
   "metadata": {},
   "source": [
    "Now that we can parse the individual night's information, we can generalize this process to all of the nights using CSS selectors.\n",
    "1. Select all items with the class period-name inside an item with the class tombstone-container in seven_day.\n",
    "2. Use a list comprehension to call the get_text method on each BeautifulSoup object.\n"
   ]
  },
  {
   "cell_type": "code",
   "execution_count": 13,
   "metadata": {
    "collapsed": false
   },
   "outputs": [
    {
     "data": {
      "text/plain": [
       "['ThisAfternoon',\n",
       " 'Tonight',\n",
       " 'Friday',\n",
       " 'FridayNight',\n",
       " 'Saturday',\n",
       " 'SaturdayNight',\n",
       " 'Sunday',\n",
       " 'SundayNight',\n",
       " 'Monday']"
      ]
     },
     "execution_count": 13,
     "metadata": {},
     "output_type": "execute_result"
    }
   ],
   "source": [
    "period_tags = seven_day.select(\".tombstone-container .period-name\")\n",
    "periods = [pt.get_text() for pt in period_tags]\n",
    "periods"
   ]
  },
  {
   "cell_type": "markdown",
   "metadata": {},
   "source": [
    "let's use some for loops on the periods array to get the other fields"
   ]
  },
  {
   "cell_type": "code",
   "execution_count": 14,
   "metadata": {
    "collapsed": false
   },
   "outputs": [
    {
     "name": "stdout",
     "output_type": "stream",
     "text": [
      "['ShowersLikely', 'ShowersLikely thenChanceShowers andPatchy Fog', 'ChanceShowers andPatchy Fogthen ShowersLikely', 'ChanceShowers', 'ShowersLikely', 'ShowersLikely thenChanceT-storms', 'Partly Sunnythen ChanceT-storms', 'ChanceT-storms', 'ChanceT-storms thenT-storms']\n",
      "['High: 85 °F', 'Low: 69 °F', 'High: 84 °F', 'Low: 68 °F', 'High: 86 °F', 'Low: 70 °F', 'High: 89 °F', 'Low: 71 °F', 'High: 87 °F']\n",
      "['This Afternoon: Showers likely and possibly a thunderstorm.  Mostly cloudy, with a high near 85. Southeast wind around 7 mph.  Chance of precipitation is 60%. New rainfall amounts of less than a tenth of an inch, except higher amounts possible in thunderstorms. ', 'Tonight: Showers likely and possibly a thunderstorm before midnight, then a chance of showers and thunderstorms between midnight and 4am, then patchy drizzle after 4am.  Patchy fog after 4am.  Otherwise, mostly cloudy, with a low around 69. Light southeast wind.  Chance of precipitation is 70%. New rainfall amounts between a tenth and quarter of an inch, except higher amounts possible in thunderstorms. ', 'Friday: Patchy drizzle before 9am, then a chance of showers and thunderstorms between 9am and noon, then showers likely and possibly a thunderstorm after noon.  Patchy fog before 8am.  Otherwise, cloudy, with a high near 84. Light southeast wind.  Chance of precipitation is 60%. New rainfall amounts between a tenth and quarter of an inch, except higher amounts possible in thunderstorms. ', 'Friday Night: A chance of showers and thunderstorms.  Cloudy, with a low around 68. Light and variable wind.  Chance of precipitation is 50%.', 'Saturday: A chance of showers before 8am, then a chance of showers and thunderstorms between 8am and 2pm, then showers likely and possibly a thunderstorm after 2pm.  Mostly cloudy, with a high near 86. Calm wind becoming south around 5 mph in the afternoon.  Chance of precipitation is 60%.', 'Saturday Night: Showers likely and possibly a thunderstorm before 8pm, then a chance of showers and thunderstorms between 8pm and 2am, then a slight chance of showers after 2am.  Mostly cloudy, with a low around 70. Chance of precipitation is 60%.', 'Sunday: A chance of showers and thunderstorms after 2pm.  Partly sunny, with a high near 89. Chance of precipitation is 40%.', 'Sunday Night: A chance of showers and thunderstorms.  Mostly cloudy, with a low around 71. Chance of precipitation is 30%.', 'Monday: A chance of showers, then showers and thunderstorms after 8am.  High near 87. Chance of precipitation is 80%.']\n"
     ]
    }
   ],
   "source": [
    "short_descs = [sd.get_text() for sd in seven_day.select(\".tombstone-container .short-desc\")]\n",
    "temps = [t.get_text() for t in seven_day.select(\".tombstone-container .temp\")]\n",
    "descs = [d[\"title\"] for d in seven_day.select(\".tombstone-container img\")]\n",
    "\n",
    "print(short_descs)\n",
    "print(temps)\n",
    "print(descs)"
   ]
  },
  {
   "cell_type": "markdown",
   "metadata": {},
   "source": [
    "\n",
    "Now that we have the data, we can use our pandas dataframe knowledge to create tables and analyze the data"
   ]
  },
  {
   "cell_type": "code",
   "execution_count": 15,
   "metadata": {
    "collapsed": true
   },
   "outputs": [],
   "source": [
    "import pandas as pd"
   ]
  },
  {
   "cell_type": "code",
   "execution_count": 16,
   "metadata": {
    "collapsed": false
   },
   "outputs": [
    {
     "data": {
      "text/html": [
       "<div>\n",
       "<style>\n",
       "    .dataframe thead tr:only-child th {\n",
       "        text-align: right;\n",
       "    }\n",
       "\n",
       "    .dataframe thead th {\n",
       "        text-align: left;\n",
       "    }\n",
       "\n",
       "    .dataframe tbody tr th {\n",
       "        vertical-align: top;\n",
       "    }\n",
       "</style>\n",
       "<table border=\"1\" class=\"dataframe\">\n",
       "  <thead>\n",
       "    <tr style=\"text-align: right;\">\n",
       "      <th></th>\n",
       "      <th>desc</th>\n",
       "      <th>period</th>\n",
       "      <th>short_desc</th>\n",
       "      <th>temp</th>\n",
       "    </tr>\n",
       "  </thead>\n",
       "  <tbody>\n",
       "    <tr>\n",
       "      <th>0</th>\n",
       "      <td>This Afternoon: Showers likely and possibly a ...</td>\n",
       "      <td>ThisAfternoon</td>\n",
       "      <td>ShowersLikely</td>\n",
       "      <td>High: 85 °F</td>\n",
       "    </tr>\n",
       "    <tr>\n",
       "      <th>1</th>\n",
       "      <td>Tonight: Showers likely and possibly a thunder...</td>\n",
       "      <td>Tonight</td>\n",
       "      <td>ShowersLikely thenChanceShowers andPatchy Fog</td>\n",
       "      <td>Low: 69 °F</td>\n",
       "    </tr>\n",
       "    <tr>\n",
       "      <th>2</th>\n",
       "      <td>Friday: Patchy drizzle before 9am, then a chan...</td>\n",
       "      <td>Friday</td>\n",
       "      <td>ChanceShowers andPatchy Fogthen ShowersLikely</td>\n",
       "      <td>High: 84 °F</td>\n",
       "    </tr>\n",
       "    <tr>\n",
       "      <th>3</th>\n",
       "      <td>Friday Night: A chance of showers and thunders...</td>\n",
       "      <td>FridayNight</td>\n",
       "      <td>ChanceShowers</td>\n",
       "      <td>Low: 68 °F</td>\n",
       "    </tr>\n",
       "    <tr>\n",
       "      <th>4</th>\n",
       "      <td>Saturday: A chance of showers before 8am, then...</td>\n",
       "      <td>Saturday</td>\n",
       "      <td>ShowersLikely</td>\n",
       "      <td>High: 86 °F</td>\n",
       "    </tr>\n",
       "    <tr>\n",
       "      <th>5</th>\n",
       "      <td>Saturday Night: Showers likely and possibly a ...</td>\n",
       "      <td>SaturdayNight</td>\n",
       "      <td>ShowersLikely thenChanceT-storms</td>\n",
       "      <td>Low: 70 °F</td>\n",
       "    </tr>\n",
       "    <tr>\n",
       "      <th>6</th>\n",
       "      <td>Sunday: A chance of showers and thunderstorms ...</td>\n",
       "      <td>Sunday</td>\n",
       "      <td>Partly Sunnythen ChanceT-storms</td>\n",
       "      <td>High: 89 °F</td>\n",
       "    </tr>\n",
       "    <tr>\n",
       "      <th>7</th>\n",
       "      <td>Sunday Night: A chance of showers and thunders...</td>\n",
       "      <td>SundayNight</td>\n",
       "      <td>ChanceT-storms</td>\n",
       "      <td>Low: 71 °F</td>\n",
       "    </tr>\n",
       "    <tr>\n",
       "      <th>8</th>\n",
       "      <td>Monday: A chance of showers, then showers and ...</td>\n",
       "      <td>Monday</td>\n",
       "      <td>ChanceT-storms thenT-storms</td>\n",
       "      <td>High: 87 °F</td>\n",
       "    </tr>\n",
       "  </tbody>\n",
       "</table>\n",
       "</div>"
      ],
      "text/plain": [
       "                                                desc         period  \\\n",
       "0  This Afternoon: Showers likely and possibly a ...  ThisAfternoon   \n",
       "1  Tonight: Showers likely and possibly a thunder...        Tonight   \n",
       "2  Friday: Patchy drizzle before 9am, then a chan...         Friday   \n",
       "3  Friday Night: A chance of showers and thunders...    FridayNight   \n",
       "4  Saturday: A chance of showers before 8am, then...       Saturday   \n",
       "5  Saturday Night: Showers likely and possibly a ...  SaturdayNight   \n",
       "6  Sunday: A chance of showers and thunderstorms ...         Sunday   \n",
       "7  Sunday Night: A chance of showers and thunders...    SundayNight   \n",
       "8  Monday: A chance of showers, then showers and ...         Monday   \n",
       "\n",
       "                                      short_desc         temp  \n",
       "0                                  ShowersLikely  High: 85 °F  \n",
       "1  ShowersLikely thenChanceShowers andPatchy Fog   Low: 69 °F  \n",
       "2  ChanceShowers andPatchy Fogthen ShowersLikely  High: 84 °F  \n",
       "3                                  ChanceShowers   Low: 68 °F  \n",
       "4                                  ShowersLikely  High: 86 °F  \n",
       "5               ShowersLikely thenChanceT-storms   Low: 70 °F  \n",
       "6                Partly Sunnythen ChanceT-storms  High: 89 °F  \n",
       "7                                 ChanceT-storms   Low: 71 °F  \n",
       "8                    ChanceT-storms thenT-storms  High: 87 °F  "
      ]
     },
     "execution_count": 16,
     "metadata": {},
     "output_type": "execute_result"
    }
   ],
   "source": [
    "weather = pd.DataFrame({\n",
    "        \"period\": periods, \n",
    "        \"short_desc\": short_descs, \n",
    "        \"temp\": temps, \n",
    "        \"desc\":descs\n",
    "    })\n",
    "weather"
   ]
  },
  {
   "cell_type": "markdown",
   "metadata": {},
   "source": [
    "From here we can use our previous knowledge from dataframe manipulation (week_1 pandas tutorial)\n",
    "\n",
    "\n",
    "### Explore: try to scrape the data from http://money.cnn.com/data/markets/\n",
    "\n",
    "general outline: \n",
    "download, parse, search divs, extract using CSS selectors, make into dataframe\n"
   ]
  },
  {
   "cell_type": "code",
   "execution_count": null,
   "metadata": {
    "collapsed": true
   },
   "outputs": [],
   "source": []
  }
 ],
 "metadata": {
  "kernelspec": {
   "display_name": "Python 3",
   "language": "python",
   "name": "python3"
  },
  "language_info": {
   "codemirror_mode": {
    "name": "ipython",
    "version": 3
   },
   "file_extension": ".py",
   "mimetype": "text/x-python",
   "name": "python",
   "nbconvert_exporter": "python",
   "pygments_lexer": "ipython3",
   "version": "3.5.1"
  }
 },
 "nbformat": 4,
 "nbformat_minor": 2
}
