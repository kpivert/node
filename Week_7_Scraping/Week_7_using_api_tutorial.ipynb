{
 "cells": [
  {
   "cell_type": "markdown",
   "metadata": {},
   "source": [
    "## Using the Twitter API: Bot Tutorial"
   ]
  },
  {
   "cell_type": "markdown",
   "metadata": {},
   "source": [
    "##### Background: What is an API?"
   ]
  },
  {
   "cell_type": "markdown",
   "metadata": {},
   "source": [
    "An Application Programming Interface (API) is the means by which a piece of software exposes some of its underlying functionality. Ideally an API is well documented so that application programmers can easily interact with it. \n",
    "\n",
    "We will look at a specific type of API: an interface exposed by a web site or a Web API. \n",
    "\n",
    "The practice of publishing APIs has allowed web communities to create an open architecture for sharing content and data. In this way, content that is created in one place can be dynamically posted and updated in multiple locations on the web. For example, Amazon or eBay APIs allow developers to use the existing retail infrastructure to create specialized web stores. Other APIs allow for:\n",
    "\n",
    "-Smartphone applications (for accessing Twitter, LinkedIn, Facebook etc.);<br>\n",
    "-Maps with location data (like Yelp);<br>\n",
    "-Online purchases (verification of credit-card data); and <br>\n",
    "-Sharing content between social networking sites."
   ]
  },
  {
   "cell_type": "markdown",
   "metadata": {},
   "source": [
    "###### Twitter API \n",
    "\n",
    "Many APIs will require you to establish an authorization key. For the twitter API, you must create an application here: https://apps.twitter.com/app/new<br>\n",
    "\n",
    "I can provide you with temporary keys to my bot's account during class. \n",
    "\n",
    "Otherwise, to fill out the application linked above following these instructions: \n",
    "Write in a Name and Desciption. You can put in a place filler like http://www.google.com for the Website.<br>\n",
    "Leave the Callback URL empty.<br> \n",
    "Submit the form.\n",
    "\n",
    "On the following page go to the Keys and Access Tokens tab and make a note of the <strong>API Key</strong> and <strong>API Secret</strong>. Scroll down and create an Access Token. Make a note of the <strong>Access Token</strong> and <strong>Access Token Secret</strong>."
   ]
  },
  {
   "cell_type": "code",
   "execution_count": null,
   "metadata": {
    "collapsed": true
   },
   "outputs": [],
   "source": [
    "api_key = #get your own using insturctions above or I'll give you one during class\n",
    "api_secret = ##\n",
    "access_token = ##\n",
    "access_secret = ##"
   ]
  },
  {
   "cell_type": "markdown",
   "metadata": {},
   "source": [
    "###### Luckily, someone has already created many of the important functions to interact with the Twitter API and its data. We will use tweepy to perform some actions within this notebook file. \n",
    "\n",
    "If you have not installed this package yet, go to the \"Anaconda Prompt\" terminal on your machine and execute:\n",
    "<code>pip install tweepy</code>"
   ]
  },
  {
   "cell_type": "code",
   "execution_count": null,
   "metadata": {},
   "outputs": [],
   "source": [
    "import tweepy #package we will use to interact with the API. "
   ]
  },
  {
   "cell_type": "code",
   "execution_count": null,
   "metadata": {},
   "outputs": [],
   "source": [
    "#Authorization\n",
    "auth = tweepy.OAuthHandler(api_key, api_secret)\n",
    "auth.set_access_token(access_token, access_secret)\n",
    "\n",
    "api = tweepy.API(auth)"
   ]
  },
  {
   "cell_type": "markdown",
   "metadata": {},
   "source": [
    "Now Let's have some fun with all the twitter data at your disposal!"
   ]
  },
  {
   "cell_type": "code",
   "execution_count": null,
   "metadata": {},
   "outputs": [],
   "source": [
    "#Print to the console the tweets from your timeline\n",
    "public_tweets = api.home_timeline()\n",
    "for tweet in public_tweets:\n",
    "    print(tweet.text)"
   ]
  },
  {
   "cell_type": "code",
   "execution_count": null,
   "metadata": {},
   "outputs": [],
   "source": [
    "# Get information about a user\n",
    "user = api.get_user('twitter')\n",
    "\n",
    "print(user.screen_name)\n",
    "#get follwer count\n",
    "print(user.followers_count)"
   ]
  },
  {
   "cell_type": "code",
   "execution_count": null,
   "metadata": {},
   "outputs": [],
   "source": [
    "#see how the friends() method works\n",
    "for friend in user.friends():\n",
    "   print(friend.screen_name)"
   ]
  },
  {
   "cell_type": "markdown",
   "metadata": {},
   "source": [
    "It's very common to get data from an API that is a JSON object since JSON is useful for storing data. However, it isn't always the most readable-- there are tons of brakets, arrays, and colons that organize the object. You will need to understand the structure of the JSON in order to parse and then comprehend the data."
   ]
  },
  {
   "cell_type": "code",
   "execution_count": null,
   "metadata": {},
   "outputs": [],
   "source": [
    "json_object = api.trends_place(1)\n",
    "print(json_object)"
   ]
  },
  {
   "cell_type": "code",
   "execution_count": null,
   "metadata": {},
   "outputs": [],
   "source": [
    "#The JSON array's outer level is list with only one item\n",
    "json_object[0]\n",
    "#json_object[1] --> fails since index out of range"
   ]
  },
  {
   "cell_type": "code",
   "execution_count": null,
   "metadata": {},
   "outputs": [],
   "source": [
    "#Now the JSON object acts like a dictionary, or a set of key-value pairs. The only key is \"trends\"\n",
    "json_object[0].get('trends')"
   ]
  },
  {
   "cell_type": "markdown",
   "metadata": {},
   "source": [
    "##### At last we have a list of dictionaries that each have the key 'name', which is the trend we are looking to caputre.\n",
    "There are other fields you are welcome to look at and analyze (i.e. promoted, tweet_volume) but let's just get a list of all the current worldwide trends. For that we will need a for loop:"
   ]
  },
  {
   "cell_type": "code",
   "execution_count": null,
   "metadata": {},
   "outputs": [],
   "source": [
    "trends = []\n",
    "for dictionary in json_object[0].get(\"trends\"):\n",
    "    trends.append(dictionary.get(\"name\"))\n",
    "    \n",
    "print(trends)"
   ]
  },
  {
   "cell_type": "code",
   "execution_count": null,
   "metadata": {},
   "outputs": [],
   "source": [
    "#The trends closest feautre will find places trending closest to a given lat/long\n",
    "lat = 38.0293\n",
    "long = -78.4767 #cville!\n",
    "api.trends_closest(lat, long)"
   ]
  },
  {
   "cell_type": "markdown",
   "metadata": {},
   "source": [
    "<strong>Important Note:</strong> To prevent bots from spamming, Twitter will restrict your access or boot you if you perform too many actions automatically. \n",
    "You can limit the usage of your cursor to stay within the rate limit."
   ]
  },
  {
   "cell_type": "code",
   "execution_count": null,
   "metadata": {
    "collapsed": true
   },
   "outputs": [],
   "source": [
    "import time"
   ]
  },
  {
   "cell_type": "code",
   "execution_count": null,
   "metadata": {
    "collapsed": true
   },
   "outputs": [],
   "source": [
    "# In this example, the handler is time.sleep(15 * 60),\n",
    "# but you can of course handle it in any way you want.\n",
    "\n",
    "def limit_handled(cursor):\n",
    "    while True:\n",
    "        \n",
    "        try:\n",
    "            yield cursor.next()\n",
    "        except tweepy.RateLimitError:\n",
    "            time.sleep(15 * 60)"
   ]
  },
  {
   "cell_type": "code",
   "execution_count": null,
   "metadata": {
    "collapsed": true
   },
   "outputs": [],
   "source": [
    "#this will follow every one of your followers with less than 300 friends while making sure you stay within the rate limit\n",
    "#try at your own risk\n",
    "#for follower in limit_handled(tweepy.Cursor(api.followers).items()):\n",
    "#    if follower.friends_count < 300:\n",
    "#        print follower.screen_name"
   ]
  },
  {
   "cell_type": "markdown",
   "metadata": {},
   "source": [
    "#### Try out more actions on your own using the tweepy documentation here:\n",
    "http://docs.tweepy.org/en/v3.5.0/api.html\n",
    "#### Or try importing data to tweet, doing analytics on your timeline, or using another API (I have used yelp and can help you out with that) "
   ]
  },
  {
   "cell_type": "code",
   "execution_count": null,
   "metadata": {
    "collapsed": true
   },
   "outputs": [],
   "source": [
    "##Your code...."
   ]
  }
 ],
 "metadata": {
  "kernelspec": {
   "display_name": "Python 3",
   "language": "python",
   "name": "python3"
  },
  "language_info": {
   "codemirror_mode": {
    "name": "ipython",
    "version": 3
   },
   "file_extension": ".py",
   "mimetype": "text/x-python",
   "name": "python",
   "nbconvert_exporter": "python",
   "pygments_lexer": "ipython3",
   "version": "3.6.1"
  }
 },
 "nbformat": 4,
 "nbformat_minor": 2
}
