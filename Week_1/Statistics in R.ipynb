{
 "cells": [
  {
   "cell_type": "markdown",
   "metadata": {},
   "source": [
    "# Statistics Review\n",
    "This is a basic statistics review for people beginning in R. This is in no Means meant to compensate for a comprehensive Statistics Review, however this will cover the basic things needed to be successful at an intermediate level. For the purposes of this worksheet, it's best to use a dataset. We will use the dataset, mtcars, offered by R to really explore the utility of R."
   ]
  },
  {
   "cell_type": "code",
   "execution_count": null,
   "metadata": {
    "collapsed": true
   },
   "outputs": [],
   "source": [
    "import pandas\n",
    "data = pandas.read_csv('examples/brain_size.csv', sep=';', na_values=\".\")\n",
    "data"
   ]
  },
  {
   "cell_type": "markdown",
   "metadata": {},
   "source": [
    "# Descriptive Statistics in R\n",
    "This section is meant to cover the most basic stuff in R.\n",
    "## summary\n",
    "The most basic layouts several of the descriptive statistics within R that one might be interested in looking at. Summary "
   ]
  },
  {
   "cell_type": "markdown",
   "metadata": {},
   "source": [
    "# Parametric Statistics\n",
    "This is a group of statistics that is focused on normal distribution over a population or large sample set.  If you have ever worked in a biology lab, there is a good chance you have worked with it.  To properly analyze a data set with parametric statistics \n",
    "## Chi-Squared Test in R\n",
    "## T-Test\n",
    "## Mann-Whitney Test"
   ]
  },
  {
   "cell_type": "markdown",
   "metadata": {},
   "source": [
    "# Non Parametric Statistics\n",
    "In most instances, parametric statistics are normally not going to be a great way to fit one's data.  In fact, one is more likely to run into a situation where one will need non parametric statistics, which for the most part returns extremely similar results as does most parametric statistics analysis. \n",
    "## Kruskal-Wallis Test\n",
    "The Non-Parametric Version of the Mann-Whitney Test"
   ]
  }
 ],
 "metadata": {
  "kernelspec": {
   "display_name": "Python 2",
   "language": "python",
   "name": "python2"
  },
  "language_info": {
   "codemirror_mode": {
    "name": "ipython",
    "version": 2
   },
   "file_extension": ".py",
   "mimetype": "text/x-python",
   "name": "python",
   "nbconvert_exporter": "python",
   "pygments_lexer": "ipython2",
   "version": "2.7.13"
  }
 },
 "nbformat": 4,
 "nbformat_minor": 2
}
