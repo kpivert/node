{
 "cells": [
  {
   "cell_type": "markdown",
   "metadata": {},
   "source": [
    "# Basics of Python\n",
    "If you are familiar with Python or you have some programming experience, then feel free to skip reading this notebook. This is just a very brief introduction, via example, to basics of Python if you are not familiar with the language. I strongly recommend visiting [Codecademy](codecademy.com) or [DataCamp](datacamp.com) for a more thorough introduction to Python.\n",
    "\n",
    "## Let's try to simulate a car dealership with Python\n",
    "You are a used cars salesperson trying to sell Honda Civics, and you want to use Python to help keep track of the number of cars you sold and how much revenue you made."
   ]
  },
  {
   "cell_type": "code",
   "execution_count": null,
   "metadata": {
    "collapsed": false
   },
   "outputs": [],
   "source": [
    "# Suppose that you have 20 Civics in your store that you would like to sell. \n",
    "# Let's assign the integer 20 into a variable called num_civics. \n",
    "# A variable is basically a name for a value. In this case, num_civics holds the number 20\n",
    "num_civics = 20\n",
    "\n",
    "# Now suppose that each Civic has a price of $1000. \n",
    "# Let's assign the integer 1000 into a variable called civic_price\n",
    "civic_price = 1000\n",
    "\n",
    "# Let's output what our variables are simply by typing up their name in a print function:\n",
    "print(num_civics)\n",
    "print(civic_price)\n",
    "\n",
    "# The print() function basically outputs whatever is in between the parentheses"
   ]
  },
  {
   "cell_type": "code",
   "execution_count": null,
   "metadata": {
    "collapsed": false
   },
   "outputs": [],
   "source": [
    "# In Python, you can add, subtract, divide, and multiply numbers \n",
    "# You can also perform these basic operations on variables, as long as there are numbers assigned to the variables\n",
    "\n",
    "# You want to find out how much revenue you would make if you sold every single car\n",
    "# The formula for revenue is quantity multiplied by price\n",
    "revenue = num_civics * civic_price\n",
    "\n",
    "print(revenue)"
   ]
  },
  {
   "cell_type": "code",
   "execution_count": null,
   "metadata": {
    "collapsed": false
   },
   "outputs": [],
   "source": [
    "# What if the price of Civics was actually $500, instead of $1000?\n",
    "# The values in a variable are not permanently assigned, but they are literally variable! (hahaha)\n",
    "# Let's reassign civic_price to 500\n",
    "civic_price = 500\n",
    "print(civic_price)\n",
    "\n",
    "# Now go back to the previous coding cell (the one where you print revenue), and run it. \n",
    "# Notice how the revenue changes when we changed one of the inputs, i.e. civic_price "
   ]
  },
  {
   "cell_type": "code",
   "execution_count": null,
   "metadata": {
    "collapsed": false
   },
   "outputs": [],
   "source": [
    "# We don't necessarily have to assign civic_price to an integer. \n",
    "# We can assign it to a float, which is a number with a decimal point. \n",
    "# Notice how \n",
    "civic_price = 999.99\n",
    "\n",
    "# The type function outputs what datatype a variable's value is\n",
    "type(civic_price)\n",
    "# Try running the revenue cell once more, and see how revenue changes! \n",
    "\n",
    "# Now change the civic_price back to an integer of your choice \n",
    "#(i.e. remove the decimal point and digits after the decimal point)\n",
    "# What type is civic_price now? "
   ]
  },
  {
   "cell_type": "code",
   "execution_count": null,
   "metadata": {
    "collapsed": false
   },
   "outputs": [],
   "source": [
    "# In Python, there's another datatype called a string, which is a sequence of characters. \n",
    "# Just like how we can assign ints or floats to variables, we can assign strings too!\n",
    "# Let's assign civic_price to a string, which is marked by single quotes (' ') or double quotes (\" \")\n",
    "civic_price = \"A thousand dollars \"\n",
    "print(civic_price)\n",
    "print(type(civic_price))\n",
    "\n",
    "# With strings, addition (+) is a bit different. It doesn't actually add values, but instead concatenates them. \n",
    "# concatenation is basically combining strings into one larger string. \n",
    "# You can only concatenate strings with each other, not (string + int)  \n",
    "# \"hot\" + \"dog\" = \"hotdog\"\n",
    "# but you cannot do \"hot\" + 4, since \"hot\" is a string and 4 is an int\n",
    "\n",
    "# In the next statement, \n",
    "    # 1. The program gets the original value of civic_price (\"A thousand dollars \")\n",
    "    # 2. civic_price is concatenated with another string value (\"and fifteen cents\")\n",
    "    # 3. Then this concatenated string (\"A thousand dollars and fifteen cents\") is assigned back to civic_price, which is then printed\n",
    "civic_price = civic_price+\"and fifteen cents\"\n",
    "print(civic_price)\n",
    "\n",
    "# Try to see what happens when you calculate revenue using civic_price as string \n",
    "# Hint: Change num_civics to a small value like 3 to better understand what the multiply operator does for a string and an int"
   ]
  },
  {
   "cell_type": "code",
   "execution_count": null,
   "metadata": {
    "collapsed": false
   },
   "outputs": [],
   "source": [
    "# Now let's print out neatly formatted versions of our variables\n",
    "civic_price = 1000\n",
    "num_civics = 20\n",
    "\n",
    "# Because civic_price and num_civics are both integers and print function does not take in a mix of types (no strings and ints together),\n",
    "#  we have to \"cast\" the integer as a string by using str(). This just converts the argument into a string type. \n",
    "\n",
    "print(\"The number of Civics is: \" + str(num_civics))\n",
    "print(\"The price of a Civic is: $\" + str(civic_price))\n",
    "print(\"The total revenue if we sold all the Civics is: $\" + str(civic_price*num_civics))\n"
   ]
  },
  {
   "cell_type": "code",
   "execution_count": null,
   "metadata": {
    "collapsed": false
   },
   "outputs": [],
   "source": [
    "# We have been calculating revenue a lot, so let's create a function that calculates revenue. \n",
    "# A function is defined once and can be called multiple times. \n",
    "# Functions are useful because they can be generalized and they reduce code size\n",
    "# For example, now we don't necessarily have to retype the revenue formula each time we calculate revenue\n",
    "\n",
    "# Here we define the getRevenue function which has two parameters(inputs): quant and price\n",
    "# The output is what is returned. In this case, it is quant*price. \n",
    "def getRevenue(quant, price):\n",
    "    return quant * price\n",
    "\n",
    "# Here we are calling the getRevenue function\n",
    "civic_revenue = getRevenue(num_civics, civic_price)\n",
    "print(civic_revenue)\n",
    "\n",
    "# Also very important thing to note. Python is a dynamically typed language. \n",
    "#   That basically means the program doesn't know the type of a variable until the program is running. \n",
    "#   This means that quant and price could be floats, ints, strings, etc. If we try calling the getRevenue\n",
    "#   with two strings as the arguments, then we will get a TypeError because we cannot multiply two strings. \n",
    "#   \n",
    "#   Python's dynamically-typed nature makes the code run a bit faster as it does not need to check type, BUT\n",
    "#   it does make you more prone to a run-time error, like TypeError, if the inputs are not what you expect\n"
   ]
  },
  {
   "cell_type": "code",
   "execution_count": null,
   "metadata": {
    "collapsed": false
   },
   "outputs": [],
   "source": [
    "# In Python, a list is an ordered compound datatype that can hold other Python datatypes including strings, floats, ints, and other lists! \n",
    "#   A list is denoted with square brackets and values separated by commas\n",
    "#   Let's create a list that contains all the information about Honda Civics only\n",
    "honda = [\"Honda\", \"Civic\", 20, 499.99]\n",
    "\n",
    "# We can access a list's values by using its index, or the corresponding integer in the position. \n",
    "# In Python, the list's index starts at 0\n",
    "\n",
    "# In the honda list\n",
    "    # The first value is the car company name            honda[0]\n",
    "    # The second value is the car model name             honda[1]\n",
    "    # The third value is the number of cars you own      honda[2]\n",
    "    # The fourth value is the price of the car           honda[3] \n",
    "\n",
    "print(\"The number of \" + honda[0] + \" \" + honda[1] +\"s is: \" + str(honda[2]))\n",
    "print(\"The price of a \" + honda[0] + \" \" + honda[1] +\" is: $\" + str(honda[3]))\n",
    "print(\"Selling all the \" + honda[0] + \" \" + honda[1] + \"s would earn you: $\" + str(honda[2] * honda[3]))\n"
   ]
  },
  {
   "cell_type": "code",
   "execution_count": null,
   "metadata": {
    "collapsed": false
   },
   "outputs": [],
   "source": [
    "# Now suppose you don't just sell Honda Civics but you sell two more types of cars: Toyota Camrys and Nissan Altimas\n",
    "honda = [\"Honda\", \"Civic\", 20, 499.99]\n",
    "toyota = [\"Toyota\", \"Camry\", 30, 799.99]\n",
    "nissan = [\"Nissan\", \"Altima\", 15, 999.99]\n",
    "\n",
    "# Let's create a list of lists called cars that holds data on all the types of cars you can sell\n",
    "cars = [honda, toyota, nissan]\n",
    "\n",
    "# We can do double indexing to get certain values in our list of lists\n",
    "# For example, if we want to get the price of a Camry:\n",
    "\n",
    "print(\"The price of a Camry is: $\" + str(cars[1][3]))\n",
    "# The 1 refers to the toyota list, since it's the second value in the cars list\n",
    "# The 3 refers to the price of the toyota, since it's the fourth value in the toyota list\n",
    "\n",
    "# Lists are mutable datatypes meaning that we can change individual elements in the list, even after creating the list\n",
    "# Here we are changing the price of a Honda Civic\n",
    "honda[3] = 699.99 \n",
    "\n",
    "# Same goes with 2 dimensional lists\n",
    "cars[1][3] = 899.99\n",
    "\n",
    "# Notice that the value of cars has changed from before\n",
    "print(cars)\n",
    "\n",
    "# Some datatypes, like strings, are immutable because they cannot be changed after it's created\n",
    "# A string is basically an unchangeable list of characters. You cannot change the characters in place. \n",
    "# Uncomment the lines below and see what error you get. \n",
    "# test = 'mutable?'\n",
    "# test[7] = '!'"
   ]
  },
  {
   "cell_type": "code",
   "execution_count": null,
   "metadata": {
    "collapsed": false
   },
   "outputs": [],
   "source": [
    "# Let's try to print all the revenues for each car. \n",
    "# We can use a for loop to iterate through the cars list and print out the revenues\n",
    "\n",
    "# Let's break this down:\n",
    "    # 1. \"for car in cars\" iterates through each car in the cars. First one is honda, then toyota, and last nissan. \n",
    "        # Note that we can replace \"car\" with anything else. It's just a variable.\n",
    "    # 2. Since \"car\" is technically a list with 4 elements we can access the different attributes using the index\n",
    "        # Note that we could have substituted getRevenue(car[2], car[3]) for car[2] * car[3]\n",
    "        # This is to demonstrate that a function's arguments can also take in list-indexed values too!\n",
    "for car in cars:\n",
    "    print(\"Selling all the \" + car[0] + \" \" + car[1] + \"s would earn you: $\" + str(getRevenue(car[2], car[3])))\n",
    "    \n"
   ]
  },
  {
   "cell_type": "code",
   "execution_count": null,
   "metadata": {
    "collapsed": false
   },
   "outputs": [],
   "source": [
    "# We can use an \"if statement\" when we want to print certain cars, like Nissan. \n",
    "# Here, if statements will first check if the condition in the parentheses is evaluated to \"true\" \n",
    "# The condition in this case is checking whether the car list is equal to the nissan list\n",
    "    # if it's true, then it will print the statement\n",
    "    # if it's not true, then it will NOT print the statement (it will ignore code in the indentation after the if-statement)\n",
    "for car in cars:\n",
    "    if(car == nissan):\n",
    "        print(\"Selling all the \" + car[0] + \" \" + car[1] + \"s would earn you: $\" + str(getRevenue(car[2], car[3])))\n",
    "\n",
    "# Important things to note:\n",
    "    # one equal sign (=) is the assignment operator, used to assign values to variables\n",
    "    # two equal signs (==) is the test for equality\n",
    "    # exclamation point and an equal sign (!=) is to test whether two things are not equal. \n",
    "        # This is the opposite of (==)\n"
   ]
  },
  {
   "cell_type": "code",
   "execution_count": null,
   "metadata": {
    "collapsed": false
   },
   "outputs": [],
   "source": [
    "# What if want to print statements that categorize how much revenue certains cars will generate? \n",
    "# We can use an if-elif-else statement to run this\n",
    "# Here's how the code below works.\n",
    "    # First we calculate the revenue for a car and store it into a variable called revenue\n",
    "    # IF: check whether the revenue is greater than or equal to 20000\n",
    "        # if so, print that the car will earn lots of revenue. Then, we are done with the if-elif-else statement\n",
    "        # if not, then go to the next condition, which in this case is the elif (abbreviated name of else if)\n",
    "    # ELIF: check whether the revenue is between 14500 and 20000\n",
    "        # if so, print that the car will earn some revenue. Then, we are done with the if-elif-else statement\n",
    "        # if not, go to the else statement\n",
    "    # ELSE: this is basically the default option if all the previous conditions are false\n",
    "        # In this example, if revenue is less than 14500, then we will print that the car will earn little revenue\n",
    "for car in cars:\n",
    "    revenue = getRevenue(car[2], car[3])\n",
    "    if(revenue >= 20000):\n",
    "        print(\"Selling all the \" + car[0] + \" \" + car[1] + \"s would earn a lot of revenue!\")\n",
    "    elif(14500< revenue < 20000):\n",
    "        print(\"Selling all the \" + car[0] + \" \" + car[1] + \"s would earn some revenue.\")\n",
    "    else:\n",
    "        print(\"Selling all the \" + car[0] + \" \" + car[1] + \"s would give us little revenue!\")\n",
    "        \n",
    "# Something to note in an if-elif-else statement:\n",
    "    # You need to have one if part\n",
    "    # You can have 0 or more elif parts\n",
    "    # The else part is optional"
   ]
  },
  {
   "cell_type": "code",
   "execution_count": null,
   "metadata": {
    "collapsed": false
   },
   "outputs": [],
   "source": [
    "# If we have another car we're selling, say Hyundai Elantra, then we can easily append it to our list\n",
    "# Appending means adding to the end of the list\n",
    "hyundai = [\"Hyundai\", \"Elantra\", 24, 499.99]\n",
    "cars.append(hyundai)\n",
    "cars"
   ]
  },
  {
   "cell_type": "code",
   "execution_count": null,
   "metadata": {
    "collapsed": false
   },
   "outputs": [],
   "source": [
    "# Maybe we don't want the Hyundai anymore in cars.  \n",
    "# We can just as easily call the remove method that belongs to cars\n",
    "cars.remove(hyundai)\n",
    "cars"
   ]
  },
  {
   "cell_type": "code",
   "execution_count": null,
   "metadata": {
    "collapsed": false
   },
   "outputs": [],
   "source": [
    "# Suppose that we want to select only the first two elements in our cars list\n",
    "# That is, we want to print the contents of only Honda and Toyota\n",
    "# We can create a slice, a subset of the list, by specifying two indices.\n",
    "# The index before the colon is the start of the list and it's included, \n",
    "#   while the index after the colon is the stopping point of the list is not included. \n",
    "#   So doing cars[0:2] will select cars[0] and cars[1], but not cars[2], which is Nissan\n",
    "subset = cars[0:2]\n",
    "print(subset)\n",
    "\n",
    "# If you need to find the number of elements in your list, you can use the len() function\n",
    "print( \"The length of cars is \" + str(len(cars)))\n",
    "print( \"The length of subset is \" + str(len(subset)))\n",
    "\n",
    "# Practice adding, removing, and subsetting cars on your own, as this is going to be important for the Intro to Data Science Section\n",
    "\n",
    "# Use the Python documentation https://docs.python.org/3/tutorial/datastructures.html to read more on list methods\n",
    "# How would you get the index number of where nissan is in the list, i.e. 2 ? \n",
    "# How would cars in alphabetic order i.e. honda, nissan, toyota; what about printing in reversed order ?\n",
    "\n"
   ]
  },
  {
   "cell_type": "code",
   "execution_count": null,
   "metadata": {
    "collapsed": false
   },
   "outputs": [],
   "source": [
    "# The last thing we'll go over in this Intro to Python is dictionaries\n",
    "# Instead of having cars as a list of lists; it can be useful to make cars a dictionary\n",
    "# A dictionary is an unordered set of key-value pairs such that each key is unique and immutable \n",
    "# Dictionaries are denoted by curly braces {key1:value1, key2:value2, key3:value3}\n",
    "\n",
    "# Here the car company is the key and the model of the car is the value\n",
    "# Since there's no order in a dictionary, when we try to print it out, \n",
    "    # it's not necessarily going to be in the same order as we defined it\n",
    "    # Also, since dictionaries are unordered, we cannot sort them. \n",
    "cars_dict = {\"Honda\": \"Civic\", \"Toyota\": \"Camry\", \"Nissan\":\"Altima\"}\n",
    "print(cars_dict)\n",
    "\n",
    "# Since there's no order in dictionaries, we cannot access values through indexes, like how we did with lists\n",
    "# Instead, we can access the values by using it's key\n",
    "# If the key doesn't exist in a dictionary, you'll get a KeyError\n",
    "print(\"Honda is the key, and its corrsponding value is \" + cars_dict[\"Honda\"])\n",
    "\n",
    "# Keys must also be immutable, which means they can be strings or ints but not lists"
   ]
  },
  {
   "cell_type": "code",
   "execution_count": null,
   "metadata": {
    "collapsed": false
   },
   "outputs": [],
   "source": [
    "# This is how we can add a key value pair to the dictionary\n",
    "cars_dict[\"Hyundai\"] = \"Elantra\"\n",
    "print(cars_dict)\n",
    "\n",
    "# However, we cannot add duplicate keys to a dictionary. This will just edit the value associated with the key\n",
    "cars_dict[\"Toyota\"] = \"Prius\"\n",
    "print(cars_dict)\n",
    "\n",
    "# We can use the del keyword to delete a key-value pair\n",
    "del cars_dict[\"Hyundai\"]\n",
    "print(cars_dict)"
   ]
  },
  {
   "cell_type": "code",
   "execution_count": null,
   "metadata": {
    "collapsed": false
   },
   "outputs": [],
   "source": [
    "# We can get an unordered list of a dictionaries keys using the list function\n",
    "cars_list = list(cars_dict.keys())\n",
    "print(cars_list)\n",
    "\n",
    "# If we want a sorted list of dictionary keys, we can use the sorted function, which returns a sorted list\n",
    "cars_list_sorted = sorted(cars_dict.keys())\n",
    "print(cars_list_sorted)"
   ]
  },
  {
   "cell_type": "code",
   "execution_count": null,
   "metadata": {
    "collapsed": false
   },
   "outputs": [],
   "source": [
    "# Now that we know the basics of dictionaries, let's take cars, which is a 2D list, and turn it into a dictionary\n",
    "# Here the car company is the key and the value is the list with info on the model name, quantity, and price\n",
    "cars = {\"Honda\":['Civic', 20, 699.99], 'Toyota': ['Camry', 30, 899.99], 'Nissan': ['Altima', 15, 999.99]}\n",
    "print(cars)\n",
    "\n",
    "# We can iterate through the key-value pairs (also known as items) of a dictionary\n",
    "    # for key, value in dict.items(): \n",
    "    # Note: Since dictionaries are unordered, the keys/values printed won't be in any particular order\n",
    "        # If you want to print it by sorted keys, use the sorted() function on cars.items()\n",
    "for car, car_info in cars.items():\n",
    "    print(\"Selling all the \" + car + \" \" + car_info[0] + \"s would earn you: $\" + str(getRevenue(car_info[1], car_info[2])))\n",
    "\n",
    "# Understanding the fundamental concepts of dictionaries and lists is especially important \n",
    "    # for the Intro to Numpy/Pandas section that we will go over during Week 1 lecture"
   ]
  },
  {
   "cell_type": "markdown",
   "metadata": {},
   "source": [
    "## Conclusion\n",
    "\n",
    "And that concludes our very brief intro to Python. We didn't go over all the possible things you can do in Python, but we did cover enough to follow along in the Node Python curriculum. I recommend experimenting with the code and practice applying these concepts until you feel comfortable to be coding. If you want more practice, again definitely check out [Codecademy](codecademy.com) or [DataCamp](datacamp.com) for a more indepth tutorial. "
   ]
  }
 ],
 "metadata": {
  "kernelspec": {
   "display_name": "Python 3",
   "language": "python",
   "name": "python3"
  },
  "language_info": {
   "codemirror_mode": {
    "name": "ipython",
    "version": 3
   },
   "file_extension": ".py",
   "mimetype": "text/x-python",
   "name": "python",
   "nbconvert_exporter": "python",
   "pygments_lexer": "ipython3",
   "version": "3.5.1"
  }
 },
 "nbformat": 4,
 "nbformat_minor": 2
}
