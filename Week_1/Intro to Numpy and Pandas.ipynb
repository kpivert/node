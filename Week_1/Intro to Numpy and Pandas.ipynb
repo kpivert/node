{
 "cells": [
  {
   "cell_type": "markdown",
   "metadata": {},
   "source": [
    "# Introduction to NumPy and Pandas\n",
    "\n",
    "## What is NumPy?\n",
    "\n",
    "NumPy is a package in Python used for powerful, scalable computation. NumPy has a special array object that allows it store data in a smaller memory size and have faster access/edit times than ordinary Python list objects. It also has a large number of useful mathematical functions for linear algebra, fourier transforms, etc. We're going to mainly focus on the array objects today.\n",
    "\n",
    "## Installation of Packages\n",
    "Before we dive into Numpy, we need to first install the package and then import it. First, you want to make sure that you have pip3 installed. This is a tool that makes it really easy to install the numerous packages that are found on the Python Package Index. Chances are that your computer already has pip installed but you need pip3, since we're working in Python 3. \n",
    "\n",
    "Go to your terminal and type:\n",
    "\n",
    "```terminal\n",
    "sudo easy_install pip\n",
    "\n",
    "```\n",
    "After you enter your login password, you have successfully installed the most recent version of pip and pip3! Now anytime you want to install a package, you type in the terminal: \n",
    "\n",
    "```terminal\n",
    "pip3 install insert_package_name_here\n",
    "```\n",
    "Or if you just want to do it within the Jupyter Notebook, just type: \n",
    "```terminal\n",
    "!pip3 install insert_package_name_here\n",
    "```\n",
    "Try installing 'numpy' on your own!\n",
    "\n",
    "## Importing Packages\n",
    "\n",
    "You only have to install a new package once using terminal. However, the package is not automatically added into your program; you need to first import it. We are going to import NumPy's contents into our program. Anytime we use a NumPy array or methods, we can call it using an abbreviated name like np instead of typing the whole name (numpy). "
   ]
  },
  {
   "cell_type": "code",
   "execution_count": 2,
   "metadata": {
    "collapsed": false
   },
   "outputs": [],
   "source": [
    "# Note that there is no output when you import a package\n",
    "import numpy as np"
   ]
  },
  {
   "cell_type": "markdown",
   "metadata": {},
   "source": [
    "## NumPy Arrays\n",
    "The NumPy array is a homogeneous, multidimensional array. Let's break that down. \n",
    "\n",
    "## INSERT PIC OF NUMPY ARRAY VS. PYTHON LIST\n",
    "\n",
    "1. Homogeneous \n",
    "    * Every element in a NumPy array is of the same datatype. \n",
    "        * The result is that you can save much more memory than storing the data in a List\n",
    "    * They can be all integers, all floats, or all strings. \n",
    "    * What happens if there's a mix of datatypes in your NumPy array? \n",
    "        * You'll experiment shortly and see what happens.\n",
    "\n",
    "\n",
    "2. Multidimensional\n",
    "    * You can have 1D NumPy arrays, 2D NumPy matrices, and more! \n",
    "    * Multidimensional NumPy arrays are much more easy to work with than multidimensional Python Lists, as you will see\n",
    "\n",
    "3. Array\n",
    "    * An array is an ordered group of elements stored in contiguous memory. \n",
    "    * Python actually does not have a native array data structure. \n",
    "        * Python only has lists which have its elements scattered all across memory!\n",
    "    * NumPy arrays have their elements stored in one continuous block of memory. \n",
    "        * The result is much faster access to elements!\n",
    "        \n",
    "For more information on how Numpy Arrays work \"under the hood\" check out its [documentation](https://docs.scipy.org/doc/numpy/reference/internals.html)\n",
    "\n",
    "Let's actually get started!\n",
    "\n",
    "## Creating a NumPy Array"
   ]
  },
  {
   "cell_type": "code",
   "execution_count": 30,
   "metadata": {
    "collapsed": false
   },
   "outputs": [
    {
     "name": "stdout",
     "output_type": "stream",
     "text": [
      "[[1 2 3]\n",
      " [4 5 6]]\n",
      "<class 'numpy.ndarray'>\n",
      "\n",
      "\n",
      "[0 1 2 3 4 5 6 7]\n",
      "[1 2 3 4 5 6 7 8]\n",
      "[1 3 5 7]\n",
      "\n",
      "\n",
      "The shape of a 2D array is (2, 3)\n",
      "[[1 2 3 4]\n",
      " [5 6 7 8]]\n",
      "\n",
      "\n",
      "[[ 0.  0.  0.  0.  0.]\n",
      " [ 0.  0.  0.  0.  0.]\n",
      " [ 0.  0.  0.  0.  0.]]\n"
     ]
    }
   ],
   "source": [
    "# There are many ways to create an array! \n",
    "\n",
    "# Creating an array from a list\n",
    "lis = [[1,2,3],[4,5,6]]\n",
    "arr = np.array(lis)\n",
    "print(arr)\n",
    "print(type(arr))\n",
    "\n",
    "print(\"\\n\")  # \\n creates a new line break\n",
    "\n",
    "# Or creating an array using the arange function.\n",
    "arr2 = np.arange(8)\n",
    "print(arr2)\n",
    "arr2 = np.arange(1, 9)\n",
    "print(arr2)\n",
    "arr2 = np.arange(1, 9, 2) \n",
    "print(arr2)\n",
    "\n",
    "print(\"\\n\")\n",
    "# The shape of a 2D array is the number of rows by the number of columns in an array. \n",
    "\n",
    "# The shape is a property of a NumPy array object.\n",
    "# That means you can get its value by the dot notation or a function\n",
    "print(\"The shape of a 2D array is \" + str(arr.shape))\n",
    "# In the last print statement, substitute 'arr.shape' for 'np.shape(arr)'\n",
    "\n",
    "# If we want to change the shape of an array, we can use the reshape function.\n",
    "arr2 = np.arange(1,9).reshape(2,4)\n",
    "print(arr2)\n",
    "print(\"\\n\")\n",
    "\n",
    "\n",
    "# You can use the zeros function to create an array of place-holder zeros with a certain shape\n",
    "arr3 = np.zeros((3,5))\n",
    "print(arr3)\n"
   ]
  },
  {
   "cell_type": "markdown",
   "metadata": {},
   "source": [
    "### Explore:\n",
    " Use the next cell to briefly experiment with the shape of different 1D arrays and 3D arrays. \n",
    " Also figure out what the properties 'size' and 'ndim' do without looking it up on the documentation. "
   ]
  },
  {
   "cell_type": "code",
   "execution_count": null,
   "metadata": {
    "collapsed": true
   },
   "outputs": [],
   "source": []
  },
  {
   "cell_type": "code",
   "execution_count": null,
   "metadata": {
    "collapsed": true
   },
   "outputs": [],
   "source": []
  }
 ],
 "metadata": {
  "kernelspec": {
   "display_name": "Python 3",
   "language": "python",
   "name": "python3"
  },
  "language_info": {
   "codemirror_mode": {
    "name": "ipython",
    "version": 3
   },
   "file_extension": ".py",
   "mimetype": "text/x-python",
   "name": "python",
   "nbconvert_exporter": "python",
   "pygments_lexer": "ipython3",
   "version": "3.5.1"
  }
 },
 "nbformat": 4,
 "nbformat_minor": 2
}
