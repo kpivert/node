{
 "cells": [
  {
   "cell_type": "markdown",
   "metadata": {},
   "source": [
    "# Introduction to NumPy and Pandas\n",
    "\n",
    "## What is NumPy?\n",
    "\n",
    "NumPy is a package in Python used for powerful, scalable computation. NumPy has a special array object that allows it store data in a smaller memory size and have faster access/edit times than ordinary Python list objects. It also has a large number of useful mathematical functions for linear algebra, fourier transforms, etc. We're going to mainly focus on the array objects today.\n",
    "\n",
    "## Installation of Packages\n",
    "Before we dive into Numpy, we need to first install the package and then import it. First, you want to make sure that you have pip3 installed. This is a tool that makes it really easy to install the numerous packages that are found on the Python Package Index. Chances are that your computer already has pip installed but you need pip3, since we're working in Python 3. \n",
    "\n",
    "Go to your terminal and type:\n",
    "\n",
    "```terminal\n",
    "sudo easy_install pip\n",
    "\n",
    "```\n",
    "After you enter your login password, you have successfully installed the most recent version of pip and pip3! Now anytime you want to install a package, you type in the terminal: \n",
    "\n",
    "```terminal\n",
    "pip3 install insert_package_name_here\n",
    "```\n",
    "Or if you just want to do it within the Jupyter Notebook, just type: \n",
    "```terminal\n",
    "!pip3 install insert_package_name_here\n",
    "```\n",
    "Try installing 'numpy' on your own!\n",
    "\n",
    "## Importing Packages\n",
    "\n",
    "You only have to install a new package once using terminal. However, the package is not automatically added into your program; you need to first import it. We are going to import NumPy's contents into our program. Anytime we use a NumPy array or methods, we can call it using an abbreviated name like np instead of typing the whole name (numpy). "
   ]
  },
  {
   "cell_type": "code",
   "execution_count": 1,
   "metadata": {
    "collapsed": true
   },
   "outputs": [],
   "source": [
    "# Note that there is no output when you import a package\n",
    "import numpy as np"
   ]
  },
  {
   "cell_type": "markdown",
   "metadata": {},
   "source": [
    "## NumPy Arrays\n",
    "The NumPy array is a homogeneous, multidimensional array. Let's break that down. \n",
    "\n",
    "## INSERT PIC OF NUMPY ARRAY VS. PYTHON LIST\n",
    "\n",
    "1. Homogeneous \n",
    "    * Every element in a NumPy array is of the same datatype. \n",
    "        * The result is that you can save much more memory than storing the data in a List\n",
    "    * They can be all integers, all floats, or all strings. \n",
    "    * What happens if there's a mix of datatypes in your NumPy array? \n",
    "        * You'll experiment shortly and see what happens.\n",
    "\n",
    "2. Multidimensional\n",
    "    * You can have 1D NumPy arrays, 2D NumPy matrices, and more! \n",
    "    * Multidimensional NumPy arrays are much more easy to work with than multidimensional Python Lists, as you will see\n",
    "\n",
    "3. Array\n",
    "    * An array is an ordered group of elements stored in contiguous memory. \n",
    "    * Python actually does not have a native array data structure. \n",
    "        * Python only has lists which have its elements scattered all across memory!\n",
    "    * NumPy arrays have their elements stored in one continuous block of memory. \n",
    "        * The result is much faster access to elements!\n",
    "        \n",
    "For more information on how Numpy Arrays work \"under the hood\" check out its [documentation](https://docs.scipy.org/doc/numpy/reference/internals.html)\n",
    "\n",
    "Let's actually get started!\n",
    "\n",
    "## Creating a NumPy Array"
   ]
  },
  {
   "cell_type": "code",
   "execution_count": 2,
   "metadata": {
    "collapsed": false
   },
   "outputs": [
    {
     "name": "stdout",
     "output_type": "stream",
     "text": [
      "[[1 2 3]\n",
      " [4 5 6]]\n",
      "<class 'numpy.ndarray'>\n",
      "\n",
      "\n",
      "[0 1 2 3 4 5 6 7]\n",
      "[1 2 3 4 5 6 7 8]\n",
      "[1 3 5 7]\n",
      "\n",
      "\n"
     ]
    }
   ],
   "source": [
    "# There are many ways to create an array! \n",
    "\n",
    "# Creating an array from a list\n",
    "lis = [[1,2,3],[4,5,6]]\n",
    "arr = np.array(lis)\n",
    "print(arr)\n",
    "print(type(arr))\n",
    "\n",
    "print(\"\\n\")  # \\n creates a new line break\n",
    "\n",
    "# Or creating an array using the arange function.\n",
    "arr2 = np.arange(8)\n",
    "print(arr2)\n",
    "arr2 = np.arange(1, 9)\n",
    "print(arr2)\n",
    "arr2 = np.arange(1, 9, 2) \n",
    "print(arr2)\n",
    "\n",
    "print(\"\\n\")\n"
   ]
  },
  {
   "cell_type": "code",
   "execution_count": 3,
   "metadata": {
    "collapsed": false
   },
   "outputs": [
    {
     "name": "stdout",
     "output_type": "stream",
     "text": [
      "The shape of a 2D array is (2, 3)\n",
      "\n",
      "\n",
      "[[1 2 3 4]\n",
      " [5 6 7 8]]\n",
      "[[1 2 3 4]\n",
      " [5 6 7 8]]\n",
      "\n",
      "\n",
      "[[ 0.  0.  0.  0.  0.]\n",
      " [ 0.  0.  0.  0.  0.]\n",
      " [ 0.  0.  0.  0.  0.]]\n"
     ]
    }
   ],
   "source": [
    "# The shape of a 2D array is the number of rows by the number of columns in an array. \n",
    "\n",
    "# The shape is a property of a NumPy array object.\n",
    "# That means you can get its value by the dot notation or a function\n",
    "print(\"The shape of a 2D array is \" + str(arr.shape))\n",
    "# In the last print statement, substitute 'arr.shape' for 'np.shape(arr)'\n",
    "print(\"\\n\")\n",
    "# If we want to change the shape of an array, we can use the reshape function.\n",
    "arr2 = np.arange(1,9).reshape(2,4)\n",
    "print(arr2)\n",
    "arr2 = np.arange(1,9).reshape(2,-1) # What happens if one dimension is -1?\n",
    "print(arr2)\n",
    "print(\"\\n\")\n",
    "\n",
    "\n",
    "# You can use the zeros function to create an array of place-holder zeros with a certain shape\n",
    "arr3 = np.zeros((3,5))\n",
    "print(arr3)\n"
   ]
  },
  {
   "cell_type": "markdown",
   "metadata": {},
   "source": [
    "### Explore:\n",
    " Use the next cell to briefly experiment with the shape of different 1D arrays and 3D arrays. \n",
    " Also figure out what the properties 'size' and 'ndim' do without looking it up on the documentation. "
   ]
  },
  {
   "cell_type": "code",
   "execution_count": 4,
   "metadata": {
    "collapsed": false
   },
   "outputs": [],
   "source": [
    "# Practice"
   ]
  },
  {
   "cell_type": "code",
   "execution_count": 5,
   "metadata": {
    "collapsed": false
   },
   "outputs": [
    {
     "name": "stdout",
     "output_type": "stream",
     "text": [
      "[0 2 4 6 8]\n",
      "[0 1 2 3 4]\n",
      "\n",
      "[[0 2 4 6 8]\n",
      " [0 1 2 3 4]]\n",
      "\n",
      "[0 2 4 6 8 0 1 2 3 4]\n"
     ]
    }
   ],
   "source": [
    "# We can also stack arrays on top of each other or next to each other\n",
    "x = np.arange(0,10,2)                     \n",
    "y = np.arange(5)   \n",
    "print(x)\n",
    "print(y)\n",
    "print()\n",
    "\n",
    "# Dimensions of arguments must match exactly\n",
    "xTopOfY = np.vstack([x,y])  \n",
    "print(xTopOfY)\n",
    "print() \n",
    "xNextToY = np.hstack([x,y])   \n",
    "print(xNextToY)"
   ]
  },
  {
   "cell_type": "markdown",
   "metadata": {},
   "source": [
    "## NumPy Array Datatypes"
   ]
  },
  {
   "cell_type": "code",
   "execution_count": 6,
   "metadata": {
    "collapsed": false
   },
   "outputs": [
    {
     "name": "stdout",
     "output_type": "stream",
     "text": [
      "[[1 2 3 4]\n",
      " [5 6 7 8]]\n",
      "Every element in the array has datatype: int64\n",
      "\n",
      "\n",
      "[[ 1.  2.]\n",
      " [ 3.  4.]]\n",
      "Every element in the array has datatype: float64\n"
     ]
    }
   ],
   "source": [
    "# An important part of NumPy arrays are that every element is of the same data type\n",
    "# We can use the property datatype to figure out what datatype it holds\n",
    "arr = np.arange(1,9).reshape(2,4)\n",
    "print(arr)\n",
    "print(\"Every element in the array has datatype: \" + str(arr.dtype))\n",
    "\n",
    "print(\"\\n\")\n",
    "# You can also force cast each element to be the same type by adding another argument\n",
    "arr = np.array([[1,2], [3,4]], float)\n",
    "print(arr)\n",
    "print(\"Every element in the array has datatype: \" + str(arr.dtype))\n"
   ]
  },
  {
   "cell_type": "markdown",
   "metadata": {},
   "source": [
    "### Explore:\n",
    "Use the next cell to figure out what happens if you have an array with  mixture of types (float and int), (int and string), etc. What is the resulting datatype of the array? The behavior that you will observe is called upcasting. "
   ]
  },
  {
   "cell_type": "code",
   "execution_count": null,
   "metadata": {
    "collapsed": true
   },
   "outputs": [],
   "source": []
  },
  {
   "cell_type": "code",
   "execution_count": 7,
   "metadata": {
    "collapsed": false
   },
   "outputs": [
    {
     "name": "stdout",
     "output_type": "stream",
     "text": [
      "[[ 1.  2.]\n",
      " [ 3.  4.]]\n",
      "\n",
      "\n",
      "[ 1.  2.]\n",
      "[ 3.  4.]\n",
      "\n",
      "\n",
      "[ 1.  3.]\n",
      "[ 2.  4.]\n",
      "\n",
      "\n",
      "1.0\n",
      "2.0\n",
      "3.0\n",
      "4.0\n"
     ]
    }
   ],
   "source": [
    "# Now let's iterate through a NumPy array\n",
    "print(arr)\n",
    "print(\"\\n\")\n",
    "\n",
    "for row in arr:\n",
    "    print(row)\n",
    "print(\"\\n\")\n",
    "\n",
    "for col in arr.T: # T means transpose (switching rows and columns)\n",
    "    print(col)\n",
    "print(\"\\n\")\n",
    " \n",
    "for element in arr.flatten(): # flatten function basically takes multi-dim array and returns a 1D array representation\n",
    "    print(element)\n"
   ]
  },
  {
   "cell_type": "markdown",
   "metadata": {},
   "source": [
    "## Iterating through NumPy Arrays"
   ]
  },
  {
   "cell_type": "code",
   "execution_count": 8,
   "metadata": {
    "collapsed": false
   },
   "outputs": [
    {
     "name": "stdout",
     "output_type": "stream",
     "text": [
      "[[ 5 10 15]\n",
      " [20 25 30]]\n",
      "\n",
      "[[ 3  2  4]\n",
      " [ 8  7 14]]\n",
      "\n",
      "[[ 2  8 11]\n",
      " [12 18 16]]\n",
      "\n",
      "\n",
      "[[False False False]\n",
      " [ True  True  True]]\n"
     ]
    }
   ],
   "source": [
    "# Arithemtic operations on NumPy arrays are applied element to element\n",
    "a = np.arange(5, 35, 5).reshape((2,3))\n",
    "print(str(a) + \"\\n\")\n",
    "b = np.array([[3, 2, 4], [8, 7, 14]])\n",
    "print(str(b) + \"\\n\")\n",
    "print(a-b)\n",
    "\n",
    "print(\"\\n\")\n",
    "\n",
    "print(a>15)"
   ]
  },
  {
   "cell_type": "markdown",
   "metadata": {},
   "source": [
    "## NumPy Indexing "
   ]
  },
  {
   "cell_type": "code",
   "execution_count": 9,
   "metadata": {
    "collapsed": false
   },
   "outputs": [
    {
     "name": "stdout",
     "output_type": "stream",
     "text": [
      "[1, 25, 81, 16]\n",
      "[ 1 25 81 16]\n",
      "\n",
      "[ 9 16 25 36 49]\n",
      "\n",
      "[ 25  36  49  64  81 100 121 144]\n"
     ]
    }
   ],
   "source": [
    "# My favorite part of NumPy is the powerful indexing you can do when selecting in an array\n",
    "\n",
    "# Creating a list of squares from 1 to 12 inclusive using list comprehension (abbreviated way of making a list)\n",
    "squares = [(i+1)**2 for i in range(12)]\n",
    "\n",
    "# In Python, selecting squares with multiple indices is a bit complex\n",
    "# Say we want to print the first, fifth, ninth, and fourth elements in that order. \n",
    "print([squares[0], squares[4], squares[8], squares[3]])\n",
    "\n",
    "# In NumPy, we can use an array of indices to select for certain values in an array\n",
    "squares_arr = np.array(squares)\n",
    "indices = np.array([0,4,8,3]) # indices is just an array of integers\n",
    "print(squares_arr[indices])\n",
    "\n",
    "print()\n",
    "\n",
    "# If the values are all next to each other, we can use slicing to get the values too! \n",
    "print(squares_arr[2:7])\n",
    "print()\n",
    "# Select squares_arr values which are greater than 20 \n",
    "# This is called Boolean Indexing\n",
    "print(squares_arr[squares_arr>20])\n"
   ]
  },
  {
   "cell_type": "code",
   "execution_count": 10,
   "metadata": {
    "collapsed": false
   },
   "outputs": [
    {
     "name": "stdout",
     "output_type": "stream",
     "text": [
      "[[  1   4   9  16]\n",
      " [ 25  36  49  64]\n",
      " [ 81 100 121 144]]\n",
      "\n",
      "\n",
      "121\n",
      "\n",
      "\n",
      "[ 16  64 144]\n",
      "[  4 121]\n"
     ]
    }
   ],
   "source": [
    "squares_arr = squares_arr.reshape((3,4))\n",
    "print(squares_arr)\n",
    "print(\"\\n\")\n",
    "\n",
    "# 3rd row, 3rd col\n",
    "print(squares_arr[2][2])\n",
    "print(\"\\n\")\n",
    "\n",
    "# printing all entries in the fourth column\n",
    "print(squares_arr[:,3])\n",
    "\n",
    "row_indices = np.array([0,2])\n",
    "col_indices = np.array([1,2])\n",
    "print(squares_arr[row_indices, col_indices])\n",
    "\n",
    "# Try printing 49, 81, 16 in one list using the above array indexing technique\n",
    "\n"
   ]
  },
  {
   "cell_type": "markdown",
   "metadata": {},
   "source": [
    "## Wrapping Up NumPy\n",
    "\n",
    "We just finished up the basics of NumPy. Although we didn't cover all that NumPy has to offer, you can see that it's more powerful than a list in speed, memory, and flexibility. Now, we move onto Pandas, which is heavily based off NumPy. Having a good knowledge of NumPy is helpful to understanding how Pandas works. \n",
    "\n",
    "## What is Pandas? \n",
    "Pandas is a  package that makes it easy to use for data manipulation and analysis within Python through its use of two data structures: Series (1D) and DataFrames (2D). Pandas is fast and powerful because it is built on the NumPy arrays we learned about earlier. \n",
    "\n",
    "Let's start!\n",
    "\n",
    "## Series\n",
    "\n",
    "A Series is a one-dimensional NumPy array with indices. The data in the array can be of any type (integers, strings, dictionaries, etc.), and the indices should be unique values. In most cases, indices are strings, integers, or dates. Series are used to build DataFrames, which we'll talk about very soon.\n",
    "\n",
    "Here we'll show a couple of ways to create a Series object. \n"
   ]
  },
  {
   "cell_type": "code",
   "execution_count": 11,
   "metadata": {
    "collapsed": false
   },
   "outputs": [
    {
     "name": "stdout",
     "output_type": "stream",
     "text": [
      "0     First\n",
      "1    Second\n",
      "2     Third\n",
      "3    Fourth\n",
      "dtype: object\n",
      "\n",
      "a    1\n",
      "b    2\n",
      "c    3\n",
      "d    4\n",
      "Name: Sample, dtype: int64\n",
      "\n",
      "even1    2.0\n",
      "even2    4.0\n",
      "even3    6.0\n",
      "even4    NaN\n",
      "dtype: float64\n"
     ]
    }
   ],
   "source": [
    "import pandas as pd\n",
    "# Create Series from a list\n",
    "\n",
    "# In Pandas, the data type of strings, or values that contain characters and numbers, are called objects\n",
    "# If you have a mix of numbers and strings within a Series, then the datatypes of the Series will be objects\n",
    "s1 = pd.Series([\"First\", \"Second\", \"Third\", \"Fourth\"])\n",
    "print(s1)\n",
    "\n",
    "# Notice how the default indices are integers that start from 0, unless we specify it\n",
    "\n",
    "s2 = pd.Series([1,2,3,4], index = [\"a\", \"b\", \"c\",\"d\"], name=\"Sample\")\n",
    "print()\n",
    "print(s2)\n",
    "\n",
    "# We can also create a Series from a dictionary\n",
    "\n",
    "# When we have an index with no associated value, it will be assigned 'NaN', not a number\n",
    "    # This means this value is missing, since it doesn't exist\n",
    "d = {'even1' : 2, 'even2' : 4, 'even3' : 6}\n",
    "s3 = pd.Series(d, index=['even1', 'even2', 'even3', 'even4'])\n",
    "print()\n",
    "print(s3)"
   ]
  },
  {
   "cell_type": "code",
   "execution_count": 12,
   "metadata": {
    "collapsed": false
   },
   "outputs": [
    {
     "name": "stdout",
     "output_type": "stream",
     "text": [
      "a    1\n",
      "b    2\n",
      "c    3\n",
      "Name: Sample, dtype: int64\n",
      "\n",
      "a    1\n",
      "c    3\n",
      "Name: Sample, dtype: int64\n",
      "\n",
      "c    3\n",
      "d    4\n",
      "Name: Sample, dtype: int64\n"
     ]
    }
   ],
   "source": [
    "# Series can act like NumPy arrays \n",
    "\n",
    "print(s2[:3])\n",
    "print()\n",
    "print(s2[['a', 'c']])\n",
    "print()\n",
    "print(s2[s2 > s2.mean()])\n"
   ]
  },
  {
   "cell_type": "code",
   "execution_count": 13,
   "metadata": {
    "collapsed": false
   },
   "outputs": [
    {
     "name": "stdout",
     "output_type": "stream",
     "text": [
      "a     NaN\n",
      "b     7.0\n",
      "c     9.0\n",
      "d    11.0\n",
      "e     NaN\n",
      "dtype: float64\n"
     ]
    }
   ],
   "source": [
    "# The way that Series differs from NumPy arrays is that Series always match on indices for operations\n",
    "    # If an index doesn't exist for an operation, then you will get NaN, not a number\n",
    "    # Pandas operates on the union of indices\n",
    "x = pd.Series([1,2,3,4], index = [\"a\", \"b\", \"c\",\"d\"])\n",
    "y = pd.Series([5,6,7,8], index = [\"b\", \"c\", \"d\",\"e\"])\n",
    "z = x + y\n",
    "\n",
    "print(z)"
   ]
  },
  {
   "cell_type": "markdown",
   "metadata": {},
   "source": [
    "## DataFrames\n",
    "A DataFrame is a 2-Dimensional Pandas data structure with labeled rows and columns. Each row shares a common index value. Each column of a DataFrame is a Series itself. There are many, many ways of creating a DataFrame. We'll go over one way, and you'll learn more as you use Pandas. \n",
    "\n",
    "Let's create a DataFrame using a dictionary of Series"
   ]
  },
  {
   "cell_type": "code",
   "execution_count": 14,
   "metadata": {
    "collapsed": false
   },
   "outputs": [
    {
     "name": "stdout",
     "output_type": "stream",
     "text": [
      "     Model   Price\n",
      "0    Civic  699.99\n",
      "1    Camry  999.99\n",
      "2  Elantra  799.99\n",
      "\n",
      "           Model   Price\n",
      "Honda      Civic  699.99\n",
      "Toyota     Camry  999.99\n",
      "Hyundai  Elantra  799.99\n"
     ]
    }
   ],
   "source": [
    "# Dictionary containing the data\n",
    "# Keys will be the column names and the values will be the Series \n",
    "d = {'Model':pd.Series([\"Civic\", \"Camry\", \"Elantra\"]),'Price':pd.Series([699.99, 999.99, 799.99]) }\n",
    "cars_df = pd.DataFrame(d)\n",
    "print(cars_df)\n",
    "print()\n",
    "\n",
    "# The car company names are now the indices\n",
    "# Each Series must explicitly have its own index\n",
    "d = {'Model':pd.Series([\"Civic\", \"Camry\", \"Elantra\"], index=[\"Honda\", \"Toyota\", \"Hyundai\"]),\n",
    "         \"Price\":pd.Series([699.99, 999.99, 799.99], index=[\"Honda\", \"Toyota\", \"Hyundai\"])}\n",
    "cars_df = pd.DataFrame(d)\n",
    "print(cars_df)"
   ]
  },
  {
   "cell_type": "code",
   "execution_count": 15,
   "metadata": {
    "collapsed": false
   },
   "outputs": [
    {
     "name": "stdout",
     "output_type": "stream",
     "text": [
      "           Model   Price\n",
      "Honda      Civic  699.99\n",
      "Toyota     Camry  999.99\n",
      "Hyundai  Elantra  799.99\n"
     ]
    }
   ],
   "source": [
    "# You can also create a DataFrame using a dictionary of NumPy arrays or lists too!\n",
    "d = {'Model':[\"Civic\", \"Camry\", \"Elantra\"], \"Price\":[699.99, 999.99, 799.99]}\n",
    "cars_df = pd.DataFrame(d, index = [\"Honda\", \"Toyota\", \"Hyundai\"])\n",
    "print(cars_df)"
   ]
  },
  {
   "cell_type": "code",
   "execution_count": 16,
   "metadata": {
    "collapsed": false
   },
   "outputs": [
    {
     "name": "stdout",
     "output_type": "stream",
     "text": [
      "           Model   Price\n",
      "Honda      Civic  699.99\n",
      "Toyota     Camry  999.99\n",
      "Hyundai  Elantra  799.99\n",
      "Ford       Focus  899.99\n",
      "\n",
      "           Model   Price\n",
      "Honda      Civic  699.99\n",
      "Toyota     Camry  999.99\n",
      "Hyundai  Elantra  799.99\n",
      "\n",
      "           Model   Price\n",
      "Honda      Civic  699.99\n",
      "Toyota     Camry  999.99\n",
      "Hyundai  Elantra  799.99\n",
      "Ford       Focus  899.99\n",
      "\n",
      "           Model   Price\n",
      "Honda      Civic  699.99\n",
      "Toyota     Camry  999.99\n",
      "Hyundai  Elantra  799.99\n"
     ]
    }
   ],
   "source": [
    "# You can add rows by using the loc method\n",
    "cars_df.loc[\"Ford\"] = [\"Focus\", 899.99]\n",
    "print(cars_df)\n",
    "print()\n",
    "\n",
    "# You can delete rows by using the drop method, which returns a DF without the selected row\n",
    "print(cars_df.drop('Ford'))\n",
    "print()\n",
    "\n",
    "print(cars_df)\n",
    "print()\n",
    "\n",
    "# Inplace as true will change the DataFrame itself and returns nothing\n",
    "cars_df.drop('Ford', inplace=True)\n",
    "print(cars_df)"
   ]
  },
  {
   "cell_type": "code",
   "execution_count": 17,
   "metadata": {
    "collapsed": false
   },
   "outputs": [
    {
     "name": "stdout",
     "output_type": "stream",
     "text": [
      "            Model    Price\n",
      "Honda       Civic   699.99\n",
      "Toyota      Camry   999.99\n",
      "Hyundai   Elantra   799.99\n",
      "Ford        Focus   899.99\n",
      "Mercedes  S Class  1299.99\n",
      "\n",
      "            Model    Price\n",
      "Hyundai   Elantra   799.99\n",
      "Ford        Focus   899.99\n",
      "Mercedes  S Class  1299.99\n",
      "Infiniti      Q60  1099.99\n",
      "Nissan       370Z  1499.99\n",
      "\n",
      "            Model    Price\n",
      "Honda       Civic   699.99\n",
      "Toyota      Camry   999.99\n",
      "Hyundai   Elantra   799.99\n",
      "Ford        Focus   899.99\n",
      "Mercedes  S Class  1299.99\n",
      "Infiniti      Q60  1099.99\n",
      "Nissan       370Z  1499.99\n"
     ]
    }
   ],
   "source": [
    "# Let's add some more cars to the dataframe\n",
    "cars_df.loc[\"Ford\"] = [\"Focus\", 899.99]\n",
    "cars_df.loc[\"Mercedes\"] = [\"S Class\", 1299.99]\n",
    "cars_df.loc[\"Infiniti\"] = [\"Q60\", 1099.99]\n",
    "cars_df.loc[\"Nissan\"] = [\"370Z\", 1499.99]\n",
    "\n",
    "# Print first 5\n",
    "print(cars_df.head()) \n",
    "print()\n",
    "\n",
    "# Print last 5\n",
    "print(cars_df.tail())\n",
    "print()\n",
    "\n",
    "# Print all\n",
    "print(cars_df)\n"
   ]
  },
  {
   "cell_type": "code",
   "execution_count": 18,
   "metadata": {
    "collapsed": false
   },
   "outputs": [
    {
     "name": "stdout",
     "output_type": "stream",
     "text": [
      "            Model    Price  Quantity Door_Style\n",
      "Honda       Civic   699.99       100      Sedan\n",
      "Toyota      Camry   999.99       200      Sedan\n",
      "Hyundai   Elantra   799.99       300      Sedan\n",
      "Ford        Focus   899.99       400      Sedan\n",
      "Mercedes  S Class  1299.99       300      Coupe\n",
      "Infiniti      Q60  1099.99       100      Coupe\n",
      "Nissan       370Z  1499.99       200      Coupe\n",
      "\n",
      "            Model    Price  Quantity Door_Style   Revenue\n",
      "Honda       Civic   699.99       100      Sedan   69999.0\n",
      "Toyota      Camry   999.99       200      Sedan  199998.0\n",
      "Hyundai   Elantra   799.99       300      Sedan  239997.0\n",
      "Ford        Focus   899.99       400      Sedan  359996.0\n",
      "Mercedes  S Class  1299.99       300      Coupe  389997.0\n",
      "Infiniti      Q60  1099.99       100      Coupe  109999.0\n",
      "Nissan       370Z  1499.99       200      Coupe  299998.0\n"
     ]
    }
   ],
   "source": [
    "# Adding, setting, and deleting columns are like operating with dictionaries\n",
    "cars_df[\"Quantity\"] = [100, 200, 300, 400, 300, 100, 200 ]\n",
    "cars_df[\"Door_Style\"] = [\"Sedan\", \"Sedan\", \"Sedan\", \"Sedan\", \"Coupe\", \"Coupe\", \"Coupe\"]\n",
    "print(cars_df)\n",
    "print()\n",
    "cars_df[\"Revenue\"] = cars_df[\"Price\"]*cars_df[\"Quantity\"]\n",
    "print(cars_df)\n"
   ]
  },
  {
   "cell_type": "code",
   "execution_count": 19,
   "metadata": {
    "collapsed": false
   },
   "outputs": [
    {
     "name": "stdout",
     "output_type": "stream",
     "text": [
      "            Price  Quantity Door_Style   Revenue\n",
      "Honda      699.99       100      Sedan   69999.0\n",
      "Toyota     999.99       200      Sedan  199998.0\n",
      "Hyundai    799.99       300      Sedan  239997.0\n",
      "Ford       899.99       400      Sedan  359996.0\n",
      "Mercedes  1299.99       300      Coupe  389997.0\n",
      "Infiniti  1099.99       100      Coupe  109999.0\n",
      "Nissan    1499.99       200      Coupe  299998.0\n",
      "\n",
      "            Model    Price  Quantity Door_Style   Revenue\n",
      "Honda       Civic   699.99       100      Sedan   69999.0\n",
      "Toyota      Camry   999.99       200      Sedan  199998.0\n",
      "Hyundai   Elantra   799.99       300      Sedan  239997.0\n",
      "Ford        Focus   899.99       400      Sedan  359996.0\n",
      "Mercedes  S Class  1299.99       300      Coupe  389997.0\n",
      "Infiniti      Q60  1099.99       100      Coupe  109999.0\n",
      "Nissan       370Z  1499.99       200      Coupe  299998.0\n"
     ]
    }
   ],
   "source": [
    "del cars_df[\"Model\"]\n",
    "print(cars_df)\n",
    "print()\n",
    "# Let's reinsert the Model column again back in its original position\n",
    "cars_df.insert(0, \"Model\",[\"Civic\", \"Camry\", \"Elantra\", \"Focus\", \"S Class\", \"Q60\", \"370Z\"]) \n",
    "print(cars_df)"
   ]
  },
  {
   "cell_type": "code",
   "execution_count": 20,
   "metadata": {
    "collapsed": false
   },
   "outputs": [
    {
     "name": "stdout",
     "output_type": "stream",
     "text": [
      "            Model    Price  Quantity   Revenue Door_Style\n",
      "Honda       Civic   699.99       100   69999.0      Sedan\n",
      "Toyota      Camry   999.99       200  199998.0      Sedan\n",
      "Hyundai   Elantra   799.99       300  239997.0      Sedan\n",
      "Ford        Focus   899.99       400  359996.0      Sedan\n",
      "Mercedes  S Class  1299.99       300  389997.0      Coupe\n",
      "Infiniti      Q60  1099.99       100  109999.0      Coupe\n",
      "Nissan       370Z  1499.99       200  299998.0      Coupe\n"
     ]
    }
   ],
   "source": [
    "# Moving a column to a different position\n",
    "\n",
    "rev = cars_df.pop(\"Revenue\") # returns a column, which is removed from the data frame (Think CTRL-X)\n",
    "cars_df.insert(3, \"Revenue\", rev) # CTRL-V\n",
    "print(cars_df)"
   ]
  },
  {
   "cell_type": "markdown",
   "metadata": {},
   "source": [
    "## Indexing a DataFrame"
   ]
  },
  {
   "cell_type": "code",
   "execution_count": 21,
   "metadata": {
    "collapsed": false
   },
   "outputs": [
    {
     "name": "stdout",
     "output_type": "stream",
     "text": [
      "Honda         Civic\n",
      "Toyota        Camry\n",
      "Hyundai     Elantra\n",
      "Ford          Focus\n",
      "Mercedes    S Class\n",
      "Infiniti        Q60\n",
      "Nissan         370Z\n",
      "Name: Model, dtype: object\n"
     ]
    }
   ],
   "source": [
    "# There are multiple ways of indexing a DataFrame\n",
    "# To get a column, we just put the column name within square brackets\n",
    "print(cars_df[\"Model\"])\n",
    "\n",
    "# The output is a Series with the left-hand column as the index, and the right hand column as the column values"
   ]
  },
  {
   "cell_type": "code",
   "execution_count": 22,
   "metadata": {
    "collapsed": false
   },
   "outputs": [
    {
     "name": "stdout",
     "output_type": "stream",
     "text": [
      "Model          Camry\n",
      "Price         999.99\n",
      "Quantity         200\n",
      "Revenue       199998\n",
      "Door_Style     Sedan\n",
      "Name: Toyota, dtype: object\n",
      "\n",
      "Model          Camry\n",
      "Price         999.99\n",
      "Quantity         200\n",
      "Revenue       199998\n",
      "Door_Style     Sedan\n",
      "Name: Toyota, dtype: object\n"
     ]
    }
   ],
   "source": [
    "# To get a row or index, there are two ways. \n",
    "# .loc[label] will select the row by its label \n",
    "\n",
    "# To get Toyota's information\n",
    "print(cars_df.loc[\"Toyota\"])\n",
    "# Here, the output is a series, but the left-hand side is the column names of the df, \n",
    "    # and the right-hand side is the corresponding values for the Toyota\n",
    "print()\n",
    "# .iloc[integer_location] will get the same information, except we're selecting by the integer location of the index\n",
    "# In cars_df, the Toyota is the 2nd index in the df, so it corresponds to \"1\" in indexing (Indexing starts at 0)\n",
    "print(cars_df.iloc[1])\n",
    "\n",
    "# .iloc get the same exact row information as the .loc but using different arguments\n",
    "# .loc is uses index labels and .iloc uses the integer index locations\n"
   ]
  },
  {
   "cell_type": "code",
   "execution_count": 23,
   "metadata": {
    "collapsed": false
   },
   "outputs": [
    {
     "name": "stdout",
     "output_type": "stream",
     "text": [
      "        Model   Price  Quantity   Revenue Door_Style\n",
      "Honda   Civic  699.99       100   69999.0      Sedan\n",
      "Toyota  Camry  999.99       200  199998.0      Sedan\n",
      "\n",
      "        Model   Price  Quantity   Revenue Door_Style\n",
      "Honda   Civic  699.99       100   69999.0      Sedan\n",
      "Toyota  Camry  999.99       200  199998.0      Sedan\n",
      "\n",
      "        Model   Price  Quantity   Revenue Door_Style\n",
      "Honda   Civic  699.99       100   69999.0      Sedan\n",
      "Toyota  Camry  999.99       200  199998.0      Sedan\n"
     ]
    }
   ],
   "source": [
    "# We can also print multiple rows by taking an index list argument\n",
    "# Here we want just Honda and Toyota. \n",
    "# Notice that the output is a DataFrame\n",
    "print(cars_df.loc[ [\"Honda\", \"Toyota\"] ])\n",
    "print()\n",
    "# We can also do the same with .iloc[], except use slicing\n",
    "print(cars_df.iloc[0:2])\n",
    "print()\n",
    "# A more convenient way of doing this is:\n",
    "print(cars_df[0:2])"
   ]
  },
  {
   "cell_type": "code",
   "execution_count": 24,
   "metadata": {
    "collapsed": false
   },
   "outputs": [
    {
     "name": "stdout",
     "output_type": "stream",
     "text": [
      "            Model    Price  Quantity   Revenue Door_Style  High_rev\n",
      "Honda       Civic   699.99       100   69999.0      Sedan     False\n",
      "Toyota      Camry   999.99       200  199998.0      Sedan      True\n",
      "Hyundai   Elantra   799.99       300  239997.0      Sedan      True\n",
      "Ford        Focus   899.99       400  359996.0      Sedan      True\n",
      "Mercedes  S Class  1299.99       300  389997.0      Coupe      True\n",
      "Infiniti      Q60  1099.99       100  109999.0      Coupe     False\n",
      "Nissan       370Z  1499.99       200  299998.0      Coupe      True\n",
      "\n",
      "            Model    Price  Quantity   Revenue Door_Style  High_rev\n",
      "Toyota      Camry   999.99       200  199998.0      Sedan      True\n",
      "Hyundai   Elantra   799.99       300  239997.0      Sedan      True\n",
      "Ford        Focus   899.99       400  359996.0      Sedan      True\n",
      "Mercedes  S Class  1299.99       300  389997.0      Coupe      True\n",
      "Nissan       370Z  1499.99       200  299998.0      Coupe      True\n",
      "\n",
      "          Model    Price  Quantity   Revenue Door_Style  High_rev\n",
      "Honda     Civic   699.99       100   69999.0      Sedan     False\n",
      "Infiniti    Q60  1099.99       100  109999.0      Coupe     False\n"
     ]
    }
   ],
   "source": [
    "# Lastly, we can select rows using boolean indexing\n",
    "cars_df[\"High_rev\"] = cars_df[\"Revenue\"]>150000\n",
    "print(cars_df)\n",
    "print()\n",
    "\n",
    "# Let's select cars that only earn high revenues\n",
    "print(cars_df.loc[(cars_df[\"High_rev\"])])\n",
    "print() \n",
    "# Let's select cars that only earn low revenues\n",
    "print(cars_df.loc[~(cars_df[\"High_rev\"])])"
   ]
  },
  {
   "cell_type": "code",
   "execution_count": 25,
   "metadata": {
    "collapsed": false
   },
   "outputs": [
    {
     "name": "stdout",
     "output_type": "stream",
     "text": [
      "The number of Toyotas is: 200\n",
      "\n",
      "           Model   Price\n",
      "Hyundai  Elantra  799.99\n",
      "\n",
      "        Model   Price  Quantity\n",
      "Honda   Civic  699.99       100\n",
      "Toyota  Camry  999.99       200\n"
     ]
    }
   ],
   "source": [
    "# We can select for rows and columns at the same time\n",
    "print(\"The number of Toyotas is: \" + str(cars_df.loc[\"Toyota\"][\"Quantity\"]))\n",
    "print()\n",
    "\n",
    "# Printing Hyundai's model and price\n",
    "print(cars_df.loc[[\"Hyundai\"],[\"Model\", \"Price\"]])\n",
    "print()\n",
    "\n",
    "# Printing the first two cars and the first three columns with iloc\n",
    "print(cars_df.iloc[:2,:3])"
   ]
  },
  {
   "cell_type": "code",
   "execution_count": 26,
   "metadata": {
    "collapsed": false
   },
   "outputs": [
    {
     "name": "stdout",
     "output_type": "stream",
     "text": [
      "The number of Toyotas is: 200\n",
      "\n",
      "The number of Toyotas is: 300\n",
      "\n",
      "            Model    Price  Quantity   Revenue Door_Style  High_rev\n",
      "Honda       Civic   699.99       100   69999.0      Sedan     False\n",
      "Toyota      Camry   999.99       300  199998.0      Sedan      True\n",
      "Hyundai   Elantra   799.99       300  239997.0      Sedan      True\n",
      "Ford        Focus   899.99       400  359996.0      Sedan      True\n",
      "Mercedes  S Class  1299.99       300  389997.0      Coupe      True\n"
     ]
    }
   ],
   "source": [
    "# The fastest way to get and set single (non-array) values is using the at or iat method\n",
    "# at method is for label lookups (like loc)\n",
    "print(\"The number of Toyotas is: \" + str(cars_df.at[\"Toyota\",\"Quantity\"]))\n",
    "print()\n",
    "\n",
    "# iat method is for integer-based label lookups\n",
    "cars_df.iat[1, 2] = 300\n",
    "\n",
    "print(\"The number of Toyotas is: \" + str(cars_df.iat[1,2]))\n",
    "print()\n",
    "print(cars_df.head())"
   ]
  },
  {
   "cell_type": "markdown",
   "metadata": {},
   "source": [
    "## Other Operations"
   ]
  },
  {
   "cell_type": "code",
   "execution_count": 27,
   "metadata": {
    "collapsed": false
   },
   "outputs": [
    {
     "name": "stdout",
     "output_type": "stream",
     "text": [
      "Price         1042.847143\n",
      "Quantity       242.857143\n",
      "Revenue     238569.142857\n",
      "High_rev         0.714286\n",
      "dtype: float64\n",
      "\n",
      "             Price    Quantity        Revenue\n",
      "count     7.000000    7.000000       7.000000\n",
      "mean   1042.847143  242.857143  238569.142857\n",
      "std     281.999662  113.389342  121026.394214\n",
      "min     699.990000  100.000000   69999.000000\n",
      "25%     849.990000  150.000000  154998.500000\n",
      "50%     999.990000  300.000000  239997.000000\n",
      "75%    1199.990000  300.000000  329997.000000\n",
      "max    1499.990000  400.000000  389997.000000\n",
      "\n",
      "Honda         CIVIC\n",
      "Toyota        CAMRY\n",
      "Hyundai     ELANTRA\n",
      "Ford          FOCUS\n",
      "Mercedes    S CLASS\n",
      "Infiniti        Q60\n",
      "Nissan         370Z\n",
      "Name: Model, dtype: object\n"
     ]
    }
   ],
   "source": [
    "# Prints the mean of all the numeric columns\n",
    "print(cars_df.mean())\n",
    "print()\n",
    "\n",
    "# Print summary statistics\n",
    "# Very useful for exploratory data analysis! \n",
    "print(cars_df.describe())\n",
    "?pd.DataFrame.describe()\n",
    "print()\n",
    "\n",
    "# You can apply lambda(anonymous) functions to certain columns in your dataframe for quick manipulations\n",
    "print(cars_df[\"Model\"].apply(lambda x: x.upper()))\n"
   ]
  },
  {
   "cell_type": "code",
   "execution_count": 28,
   "metadata": {
    "collapsed": false
   },
   "outputs": [
    {
     "name": "stdout",
     "output_type": "stream",
     "text": [
      "            Model    Price  Quantity   Revenue Door_Style  High_rev\n",
      "Honda       Civic   699.99       100   69999.0      Sedan     False\n",
      "Toyota      Camry   999.99       300  199998.0      Sedan      True\n",
      "Hyundai   Elantra   799.99       300  239997.0      Sedan      True\n",
      "Ford        Focus   899.99       400  359996.0      Sedan      True\n",
      "Mercedes  S Class  1299.99       300  389997.0      Coupe      True\n",
      "Infiniti      Q60  1099.99       100  109999.0      Coupe     False\n",
      "Nissan       370Z  1499.99       200  299998.0      Coupe      True\n",
      "\n",
      "            Model    Price  Quantity   Revenue Door_Style  High_rev\n",
      "Mercedes  S Class  1299.99       300  389997.0      Coupe      True\n",
      "Nissan       370Z  1499.99       200  299998.0      Coupe      True\n",
      "\n"
     ]
    }
   ],
   "source": [
    "# Querying / Filtering\n",
    "print(cars_df)\n",
    "print()\n",
    "# Select car models that are 'coupe' styled and earn high revenue\n",
    "print(cars_df.query('Door_Style==\"Coupe\" & High_rev'))\n",
    "print()"
   ]
  },
  {
   "cell_type": "code",
   "execution_count": 29,
   "metadata": {
    "collapsed": false
   },
   "outputs": [
    {
     "name": "stdout",
     "output_type": "stream",
     "text": [
      "              Price  Quantity        Revenue  High_rev\n",
      "Door_Style                                            \n",
      "Coupe       1299.99       200  266664.666667  0.666667\n",
      "Sedan        849.99       275  217497.500000  0.750000\n",
      "\n",
      "Door_Style\n",
      "Coupe    266664.666667\n",
      "Sedan    217497.500000\n",
      "Name: Revenue, dtype: float64\n",
      "\n",
      "                       Price    Quantity        Revenue\n",
      "Door_Style High_rev                                    \n",
      "Coupe      False     1099.99  100.000000  109999.000000\n",
      "           True      1399.99  250.000000  344997.500000\n",
      "Sedan      False      699.99  100.000000   69999.000000\n",
      "           True       899.99  333.333333  266663.666667\n",
      "\n"
     ]
    }
   ],
   "source": [
    "# Grouping summaries\n",
    "print(cars_df.groupby('Door_Style').mean())\n",
    "print()\n",
    "\n",
    "# Just the mean of the revenues for each door_style\n",
    "print(cars_df.groupby('Door_Style')[\"Revenue\"].mean())\n",
    "print()\n",
    "\n",
    "# Multiple grouping options\n",
    "print(cars_df.groupby(['Door_Style', \"High_rev\"]).mean())\n",
    "print()"
   ]
  },
  {
   "cell_type": "code",
   "execution_count": 30,
   "metadata": {
    "collapsed": false
   },
   "outputs": [
    {
     "name": "stdout",
     "output_type": "stream",
     "text": [
      "            Model    Price  Quantity   Revenue Door_Style  High_rev  \\\n",
      "Honda       Civic   699.99       100   69999.0      Sedan     False   \n",
      "Toyota      Camry   999.99       300  199998.0      Sedan      True   \n",
      "Hyundai   Elantra   799.99       300  239997.0      Sedan      True   \n",
      "Ford        Focus   899.99       400  359996.0      Sedan      True   \n",
      "Mercedes  S Class  1299.99       300  389997.0      Coupe      True   \n",
      "Infiniti      Q60  1099.99       100  109999.0      Coupe     False   \n",
      "Nissan       370Z  1499.99       200  299998.0      Coupe      True   \n",
      "\n",
      "           Price_type  \n",
      "Honda     Inexpensive  \n",
      "Toyota       Midrange  \n",
      "Hyundai   Inexpensive  \n",
      "Ford         Midrange  \n",
      "Mercedes       Luxury  \n",
      "Infiniti     Midrange  \n",
      "Nissan         Luxury  \n"
     ]
    }
   ],
   "source": [
    "# Binning data into categories\n",
    "percentiles = [0, cars_df[\"Price\"].quantile(0.25), cars_df[\"Price\"].quantile(0.75), cars_df[\"Price\"].max()]\n",
    "price_type = [\"Inexpensive\", \"Midrange\", \"Luxury\"]\n",
    "\n",
    "# The cut method is useful for taking continuous variables, like price, and making them categorical!\n",
    "cars_df[\"Price_type\"] = pd.cut(cars_df['Price'], percentiles, labels=price_type)\n",
    "print(cars_df)\n",
    "\n",
    "# But the values in \"Price_type\" aren't true categories yet..."
   ]
  },
  {
   "cell_type": "code",
   "execution_count": 31,
   "metadata": {
    "collapsed": false
   },
   "outputs": [
    {
     "name": "stdout",
     "output_type": "stream",
     "text": [
      "Honda       Inexpensive\n",
      "Toyota         Midrange\n",
      "Hyundai     Inexpensive\n",
      "Ford           Midrange\n",
      "Mercedes         Luxury\n",
      "Infiniti       Midrange\n",
      "Nissan           Luxury\n",
      "Name: Price_type, dtype: category\n",
      "Categories (3, object): [Inexpensive < Luxury < Midrange]\n",
      "\n",
      "Is the Series ordered? True\n",
      "Is the Series ordered? False\n"
     ]
    }
   ],
   "source": [
    "# Take the price_type values and turn them into categories (faster operations under the hood)\n",
    "# Notice the order of the categoricals\n",
    "cars_df[\"Price_type\"] = cars_df[\"Price_type\"].astype(\"category\")\n",
    "print(cars_df[\"Price_type\"])\n",
    "print()\n",
    "print(\"Is the Series ordered? \" + str(cars_df[\"Price_type\"].cat.ordered))\n",
    "\n",
    "cars_df[\"Price_type\"] = cars_df[\"Price_type\"].cat.as_unordered()\n",
    "print(\"Is the Series ordered? \" + str(cars_df[\"Price_type\"].cat.ordered))\n",
    "\n"
   ]
  },
  {
   "cell_type": "code",
   "execution_count": 32,
   "metadata": {
    "collapsed": false
   },
   "outputs": [
    {
     "name": "stdout",
     "output_type": "stream",
     "text": [
      "Honda       Inexpensive\n",
      "Toyota         Midrange\n",
      "Hyundai     Inexpensive\n",
      "Ford           Midrange\n",
      "Mercedes         Luxury\n",
      "Infiniti       Midrange\n",
      "Nissan           Luxury\n",
      "Name: Price_type, dtype: category\n",
      "Categories (3, object): [Inexpensive < Midrange < Luxury]\n",
      "\n",
      "            Model    Price  Quantity   Revenue Door_Style  High_rev  \\\n",
      "Honda       Civic   699.99       100   69999.0      Sedan     False   \n",
      "Hyundai   Elantra   799.99       300  239997.0      Sedan      True   \n",
      "Toyota      Camry   999.99       300  199998.0      Sedan      True   \n",
      "Ford        Focus   899.99       400  359996.0      Sedan      True   \n",
      "Infiniti      Q60  1099.99       100  109999.0      Coupe     False   \n",
      "Mercedes  S Class  1299.99       300  389997.0      Coupe      True   \n",
      "Nissan       370Z  1499.99       200  299998.0      Coupe      True   \n",
      "\n",
      "           Price_type  \n",
      "Honda     Inexpensive  \n",
      "Hyundai   Inexpensive  \n",
      "Toyota       Midrange  \n",
      "Ford         Midrange  \n",
      "Infiniti     Midrange  \n",
      "Mercedes       Luxury  \n",
      "Nissan         Luxury  \n"
     ]
    }
   ],
   "source": [
    "# We are currently in the wrong order! \n",
    "    # Inexpensive < Luxury < Midrange\n",
    "# Let's change it to the right order:\n",
    "    # Inexpensive < Midrange < Luxury\n",
    "cars_df[\"Price_type\"] = cars_df[\"Price_type\"].cat.reorder_categories([\"Inexpensive\",\"Midrange\",\"Luxury\"], ordered=True)\n",
    "\n",
    "print(cars_df[\"Price_type\"])\n",
    "print()\n",
    "print(cars_df.sort_values(by=\"Price_type\")) # Try changing \"Price_type\" to \"Revenue\"! \n"
   ]
  },
  {
   "cell_type": "code",
   "execution_count": 33,
   "metadata": {
    "collapsed": false
   },
   "outputs": [
    {
     "name": "stdout",
     "output_type": "stream",
     "text": [
      "Midrange       3\n",
      "Luxury         2\n",
      "Inexpensive    2\n",
      "Name: Price_type, dtype: int64\n",
      "\n",
      "count            7\n",
      "unique           3\n",
      "top       Midrange\n",
      "freq             3\n",
      "Name: Price_type, dtype: object\n",
      "\n",
      "Price_type\n",
      "Inexpensive    309996.0\n",
      "Midrange       669993.0\n",
      "Luxury         689995.0\n",
      "Name: Revenue, dtype: float64\n"
     ]
    }
   ],
   "source": [
    "print(cars_df[\"Price_type\"].value_counts())\n",
    "print()\n",
    "print(cars_df[\"Price_type\"].describe())\n",
    "print()\n",
    "print(cars_df.groupby(\"Price_type\")[\"Revenue\"].sum())"
   ]
  },
  {
   "cell_type": "markdown",
   "metadata": {},
   "source": [
    "## Sources:\n",
    "Adapted from NumPy's QuickStart Tutorial\n",
    "* https://docs.scipy.org/doc/numpy-dev/user/quickstart.html\n",
    "\n",
    "Adapted from Pandas Documentation\n",
    "* https://pandas.pydata.org/pandas-docs/stable/10min.html\n",
    "* https://pandas.pydata.org/pandas-docs/stable/dsintro.html"
   ]
  }
 ],
 "metadata": {
  "kernelspec": {
   "display_name": "Python 3",
   "language": "python",
   "name": "python3"
  },
  "language_info": {
   "codemirror_mode": {
    "name": "ipython",
    "version": 3
   },
   "file_extension": ".py",
   "mimetype": "text/x-python",
   "name": "python",
   "nbconvert_exporter": "python",
   "pygments_lexer": "ipython3",
   "version": "3.5.1"
  }
 },
 "nbformat": 4,
 "nbformat_minor": 2
}
