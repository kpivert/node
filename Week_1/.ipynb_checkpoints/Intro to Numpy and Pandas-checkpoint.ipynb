{
 "cells": [
  {
   "cell_type": "markdown",
   "metadata": {},
   "source": [
    "# Introduction to NumPy and Pandas\n",
    "\n",
    "## What is NumPy?\n",
    "\n",
    "NumPy is a package in Python used for powerful, scalable computation. NumPy has a special array object that allows it store data in a smaller memory size and have faster access/edit times than ordinary Python list objects. It also has a large number of useful mathematical functions for linear algebra, fourier transforms, etc. We're going to mainly focus on the array objects today.\n",
    "\n",
    "## Installation of Packages\n",
    "Before we dive into Numpy, we need to first install the package and then import it. First, you want to make sure that you have pip3 installed. This is a tool that makes it really easy to install the numerous packages that are found on the Python Package Index. Chances are that your computer already has pip installed but you need pip3, since we're working in Python 3. \n",
    "\n",
    "Go to your terminal and type:\n",
    "\n",
    "```terminal\n",
    "sudo easy_install pip\n",
    "\n",
    "```\n",
    "After you enter your login password, you have successfully installed the most recent version of pip and pip3! Now anytime you want to install a package, you type in the terminal: \n",
    "\n",
    "```terminal\n",
    "pip3 install insert_package_name_here\n",
    "```\n",
    "Or if you just want to do it within the Jupyter Notebook, just type: \n",
    "```terminal\n",
    "!pip3 install insert_package_name_here\n",
    "```\n",
    "Try installing 'numpy' on your own!\n",
    "\n",
    "## Importing Packages\n",
    "\n",
    "You only have to install a new package once using terminal. However, the package is not automatically added into your program; you need to first import it. We are going to import NumPy's contents into our program. Anytime we use a NumPy array or methods, we can call it using an abbreviated name like np instead of typing the whole name (numpy). "
   ]
  },
  {
   "cell_type": "code",
   "execution_count": null,
   "metadata": {
    "collapsed": false
   },
   "outputs": [],
   "source": [
    "# Note that there is no output when you import a package\n",
    "import numpy as np"
   ]
  },
  {
   "cell_type": "markdown",
   "metadata": {},
   "source": [
    "## NumPy Arrays\n",
    "The NumPy array is a homogeneous, multidimensional array. Let's break that down. \n",
    "\n",
    "## INSERT PIC OF NUMPY ARRAY VS. PYTHON LIST\n",
    "\n",
    "1. Homogeneous \n",
    "    * Every element in a NumPy array is of the same datatype. \n",
    "        * The result is that you can save much more memory than storing the data in a List\n",
    "    * They can be all integers, all floats, or all strings. \n",
    "    * What happens if there's a mix of datatypes in your NumPy array? \n",
    "        * You'll experiment shortly and see what happens.\n",
    "\n",
    "\n",
    "2. Multidimensional\n",
    "    * You can have 1D NumPy arrays, 2D NumPy matrices, and more! \n",
    "    * Multidimensional NumPy arrays are much more easy to work with than multidimensional Python Lists, as you will see\n",
    "\n",
    "3. Array\n",
    "    * An array is an ordered group of elements stored in contiguous memory. \n",
    "    * Python actually does not have a native array data structure. \n",
    "        * Python only has lists which have its elements scattered all across memory!\n",
    "    * NumPy arrays have their elements stored in one continuous block of memory. \n",
    "        * The result is much faster access to elements!\n",
    "        \n",
    "For more information on how Numpy Arrays work \"under the hood\" check out its [documentation](https://docs.scipy.org/doc/numpy/reference/internals.html)\n",
    "\n",
    "Let's actually get started!\n",
    "\n",
    "## Creating a NumPy Array"
   ]
  },
  {
   "cell_type": "code",
   "execution_count": null,
   "metadata": {
    "collapsed": false
   },
   "outputs": [],
   "source": [
    "# There are many ways to create an array! \n",
    "\n",
    "# Creating an array from a list\n",
    "lis = [[1,2,3],[4,5,6]]\n",
    "arr = np.array(lis)\n",
    "print(arr)\n",
    "print(type(arr))\n",
    "\n",
    "print(\"\\n\")  # \\n creates a new line break\n",
    "\n",
    "# Or creating an array using the arange function.\n",
    "arr2 = np.arange(8)\n",
    "print(arr2)\n",
    "arr2 = np.arange(1, 9)\n",
    "print(arr2)\n",
    "arr2 = np.arange(1, 9, 2) \n",
    "print(arr2)\n",
    "\n",
    "print(\"\\n\")\n"
   ]
  },
  {
   "cell_type": "code",
   "execution_count": null,
   "metadata": {
    "collapsed": false
   },
   "outputs": [],
   "source": [
    "# The shape of a 2D array is the number of rows by the number of columns in an array. \n",
    "\n",
    "# The shape is a property of a NumPy array object.\n",
    "# That means you can get its value by the dot notation or a function\n",
    "print(\"The shape of a 2D array is \" + str(arr.shape))\n",
    "# In the last print statement, substitute 'arr.shape' for 'np.shape(arr)'\n",
    "print(\"\\n\")\n",
    "# If we want to change the shape of an array, we can use the reshape function.\n",
    "arr2 = np.arange(1,9).reshape(2,4)\n",
    "print(arr2)\n",
    "arr2 = np.arange(1,9).reshape(2,-1) # What happens if one dimension is -1?\n",
    "print(arr2)\n",
    "print(\"\\n\")\n",
    "\n",
    "\n",
    "# You can use the zeros function to create an array of place-holder zeros with a certain shape\n",
    "arr3 = np.zeros((3,5))\n",
    "print(arr3)\n"
   ]
  },
  {
   "cell_type": "markdown",
   "metadata": {},
   "source": [
    "### Explore:\n",
    " Use the next cell to briefly experiment with the shape of different 1D arrays and 3D arrays. \n",
    " Also figure out what the properties 'size' and 'ndim' do without looking it up on the documentation. "
   ]
  },
  {
   "cell_type": "code",
   "execution_count": null,
   "metadata": {
    "collapsed": true
   },
   "outputs": [],
   "source": []
  },
  {
   "cell_type": "code",
   "execution_count": null,
   "metadata": {
    "collapsed": false
   },
   "outputs": [],
   "source": [
    "# We can also stack arrays on top of each other or next to each other\n",
    "x = np.arange(0,10,2)                     \n",
    "y = np.arange(5)   \n",
    "print(x)\n",
    "print(y)\n",
    "print()\n",
    "\n",
    "# Dimensions of arguments must match exactly\n",
    "xTopOfY = np.vstack([x,y])  \n",
    "print(xTopOfY)\n",
    "print() \n",
    "xNextToY = np.hstack([x,y])   \n",
    "print(xNextToY)"
   ]
  },
  {
   "cell_type": "markdown",
   "metadata": {},
   "source": [
    "## NumPy Array Datatypes"
   ]
  },
  {
   "cell_type": "code",
   "execution_count": null,
   "metadata": {
    "collapsed": false
   },
   "outputs": [],
   "source": [
    "# An important part of NumPy arrays are that every element is of the same data type\n",
    "# We can use the property datatype to figure out what datatype it holds\n",
    "arr = np.arange(1,9).reshape(2,4)\n",
    "print(arr)\n",
    "print(\"Every element in the array has datatype: \" + str(arr.dtype))\n",
    "\n",
    "print(\"\\n\")\n",
    "# You can also force cast each element to be the same type by adding another argument\n",
    "arr = np.array([[1,2], [3,4]], float)\n",
    "print(arr)\n",
    "print(\"Every element in the array has datatype: \" + str(arr.dtype))\n"
   ]
  },
  {
   "cell_type": "markdown",
   "metadata": {},
   "source": [
    "### Explore:\n",
    "Use the next cell to figure out what happens if you have an array with  mixture of types (float and int), (int and string), etc. What is the resulting datatype of the array? The behavior that you will observe is called upcasting. "
   ]
  },
  {
   "cell_type": "code",
   "execution_count": null,
   "metadata": {
    "collapsed": false
   },
   "outputs": [],
   "source": []
  },
  {
   "cell_type": "code",
   "execution_count": null,
   "metadata": {
    "collapsed": false
   },
   "outputs": [],
   "source": [
    "# Now let's iterate through a NumPy array\n",
    "print(a)\n",
    "print(\"\\n\")\n",
    "\n",
    "for row in a:\n",
    "    print(row)\n",
    "print(\"\\n\")\n",
    "\n",
    "for col in a.T: # T means transpose (switching rows and columns)\n",
    "    print(col)\n",
    "print(\"\\n\")\n",
    " \n",
    "for element in a.flatten(): # flatten function basically takes multi-dim array and returns a 1D array representation\n",
    "    print(element)\n"
   ]
  },
  {
   "cell_type": "markdown",
   "metadata": {},
   "source": [
    "## Iterating through NumPy Arrays"
   ]
  },
  {
   "cell_type": "code",
   "execution_count": null,
   "metadata": {
    "collapsed": false
   },
   "outputs": [],
   "source": [
    "# Arithemtic operations on NumPy arrays are applied element to element\n",
    "a = np.arange(5, 35, 5).reshape((2,3))\n",
    "print(str(a) + \"\\n\")\n",
    "b = np.array([[3, 2, 4], [8, 7, 14]])\n",
    "print(str(b) + \"\\n\")\n",
    "print(a-b)\n",
    "\n",
    "print(\"\\n\")\n",
    "\n",
    "print(a>15)"
   ]
  },
  {
   "cell_type": "markdown",
   "metadata": {},
   "source": [
    "## NumPy Indexing "
   ]
  },
  {
   "cell_type": "code",
   "execution_count": null,
   "metadata": {
    "collapsed": false
   },
   "outputs": [],
   "source": [
    "# My favorite part of NumPy is the powerful indexing you can do when selecting in an array\n",
    "\n",
    "# Creating a list of squares from 1 to 12 inclusive using list comprehension (abbreviated way of making a list)\n",
    "squares = [(i+1)**2 for i in range(12)]\n",
    "\n",
    "# In Python, selecting squares with multiple indices is a bit complex\n",
    "# Say we want to print the first, fifth, ninth, and fourth elements in that order. \n",
    "print([squares[0], squares[4], squares[8], squares[3]])\n",
    "\n",
    "# In NumPy, we can use an array of indices to select for certain values in an array\n",
    "squares_arr = np.array(squares)\n",
    "indices = np.array([0,4,8,3]) # indices is just an array of integers\n",
    "print(squares_arr[indices])\n",
    "\n",
    "print()\n",
    "\n",
    "# If the values are all next to each other, we can use slicing to get the values too! \n",
    "print(squares_arr[2:7])\n",
    "print()\n",
    "# Select squares_arr values which are greater than 20 \n",
    "# This is called Boolean Indexing\n",
    "print(squares_arr[squares_arr>20])\n"
   ]
  },
  {
   "cell_type": "code",
   "execution_count": null,
   "metadata": {
    "collapsed": false
   },
   "outputs": [],
   "source": [
    "squares_arr = squares_arr.reshape((3,4))\n",
    "print(squares_arr)\n",
    "print(\"\\n\")\n",
    "\n",
    "# 3rd row, 3rd col\n",
    "print(squares_arr[2][2])\n",
    "print(\"\\n\")\n",
    "\n",
    "# printing all entries in the fourth column\n",
    "print(squares_arr[:,3])\n",
    "\n",
    "row_indices = np.array([0,2])\n",
    "col_indices = np.array([1,2])\n",
    "print(squares_arr[row_indices, col_indices])\n",
    "\n",
    "# Try printing 49, 81, 16 in one list using the above array indexing technique\n",
    "\n"
   ]
  },
  {
   "cell_type": "markdown",
   "metadata": {},
   "source": [
    "## Wrapping Up NumPy\n",
    "\n",
    "We just finished up the basics of NumPy. Although we didn't cover all that NumPy has to offer, you can see that it's more powerful than a list in speed, memory, and flexibility. Now, we move onto Pandas, which is heavily based off NumPy. Having a good knowledge of NumPy is helpful to understaning how Pandas works. \n",
    "\n",
    "## What is Pandas? "
   ]
  },
  {
   "cell_type": "markdown",
   "metadata": {},
   "source": [
    "## Sources:\n",
    "Adapted from NumPy's QuickStart Tutorial\n",
    "https://docs.scipy.org/doc/numpy-dev/user/quickstart.html"
   ]
  },
  {
   "cell_type": "code",
   "execution_count": null,
   "metadata": {
    "collapsed": true
   },
   "outputs": [],
   "source": []
  }
 ],
 "metadata": {
  "kernelspec": {
   "display_name": "Python 3",
   "language": "python",
   "name": "python3"
  },
  "language_info": {
   "codemirror_mode": {
    "name": "ipython",
    "version": 3
   },
   "file_extension": ".py",
   "mimetype": "text/x-python",
   "name": "python",
   "nbconvert_exporter": "python",
   "pygments_lexer": "ipython3",
   "version": "3.5.1"
  }
 },
 "nbformat": 4,
 "nbformat_minor": 2
}
