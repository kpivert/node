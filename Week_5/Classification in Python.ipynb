{
 "cells": [
  {
   "cell_type": "markdown",
   "metadata": {},
   "source": [
    "# Classification in Python\n",
    "\n",
    "Classification is a type of supervised learning method where you are trying to determine what category an observation falls under based on a training dataset with known classifications. \n",
    "\n",
    "A simple example of classification is determining whether an email is spam. Or if \n",
    "\n",
    "There are multiple methods of doing classification. It's important to know the assumptions, advantages, and disadvantages of each method. \n",
    "\n",
    "## K-Nearest Neighbors\n",
    "[Source](https://saravananthirumuruganathan.wordpress.com/2010/05/17/a-detailed-introduction-to-k-nearest-neighbor-knn-algorithm/)\n",
    "K-Nearest Neighbors (k-NN) is actually special in that we can use it for both classification and regression, but we'll emphasize its use in classification. \n",
    "\n",
    "## Logistic Regression\n",
    "\n",
    "## Decision Trees\n",
    "\n",
    "## Random Forest"
   ]
  }
 ],
 "metadata": {
  "kernelspec": {
   "display_name": "Python 3",
   "language": "python",
   "name": "python3"
  },
  "language_info": {
   "codemirror_mode": {
    "name": "ipython",
    "version": 3
   },
   "file_extension": ".py",
   "mimetype": "text/x-python",
   "name": "python",
   "nbconvert_exporter": "python",
   "pygments_lexer": "ipython3",
   "version": "3.5.1"
  }
 },
 "nbformat": 4,
 "nbformat_minor": 2
}
