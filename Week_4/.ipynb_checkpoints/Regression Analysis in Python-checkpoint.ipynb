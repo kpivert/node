{
 "cells": [
  {
   "cell_type": "markdown",
   "metadata": {},
   "source": [
    "# Regression Analysis in Python\n",
    "\n",
    "Regression is a statistical technique that tries to measure the strength of a relationship between a single dependent variable and one or more independent variables (predictors). Regression is an example of using supervised learning for continuous data. \n",
    "\n",
    "Regression is a popular technique in data science for prediction and forecasting because:\n",
    "1. Speedy analysis (relative to other ML methods)\n",
    "2. Highly explainable\n",
    "3. Easy to run \n",
    "4. Generally robust prediction technique, especially with multiple predictors\n",
    "\n",
    "## Simple Linear Regression\n",
    "\n",
    "\n"
   ]
  }
 ],
 "metadata": {
  "kernelspec": {
   "display_name": "Python 3",
   "language": "python",
   "name": "python3"
  },
  "language_info": {
   "codemirror_mode": {
    "name": "ipython",
    "version": 3
   },
   "file_extension": ".py",
   "mimetype": "text/x-python",
   "name": "python",
   "nbconvert_exporter": "python",
   "pygments_lexer": "ipython3",
   "version": "3.5.1"
  }
 },
 "nbformat": 4,
 "nbformat_minor": 2
}
